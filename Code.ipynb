{
 "cells": [
  {
   "cell_type": "code",
   "execution_count": 2,
   "metadata": {},
   "outputs": [],
   "source": [
    "import pandas as pd\n",
    "import numpy as np\n",
    "import matplotlib.pyplot as plt\n",
    "import seaborn as sns\n",
    "import sklearn as sk\n",
    "import scipy.stats as st\n",
    "from sklearn.model_selection import train_test_split, cross_val_score, GridSearchCV\n",
    "from sklearn.linear_model import Ridge, LogisticRegression\n",
    "from sklearn.pipeline import Pipeline\n",
    "from sklearn.preprocessing import StandardScaler, PolynomialFeatures, LabelEncoder\n",
    "from sklearn.metrics import mean_squared_error\n",
    "from sklearn.metrics import confusion_matrix, roc_curve, precision_recall_curve, auc\n",
    "from scipy.stats import t\n",
    "from sklearn import linear_model\n",
    "from matplotlib import pyplot"
   ]
  },
  {
   "cell_type": "code",
   "execution_count": 36,
   "metadata": {},
   "outputs": [
    {
     "data": {
      "text/html": [
       "<div>\n",
       "<style scoped>\n",
       "    .dataframe tbody tr th:only-of-type {\n",
       "        vertical-align: middle;\n",
       "    }\n",
       "\n",
       "    .dataframe tbody tr th {\n",
       "        vertical-align: top;\n",
       "    }\n",
       "\n",
       "    .dataframe thead th {\n",
       "        text-align: right;\n",
       "    }\n",
       "</style>\n",
       "<table border=\"1\" class=\"dataframe\">\n",
       "  <thead>\n",
       "    <tr style=\"text-align: right;\">\n",
       "      <th></th>\n",
       "      <th>meanfreq</th>\n",
       "      <th>sd</th>\n",
       "      <th>median</th>\n",
       "      <th>Q25</th>\n",
       "      <th>Q75</th>\n",
       "      <th>IQR</th>\n",
       "      <th>skew</th>\n",
       "      <th>kurt</th>\n",
       "      <th>sp.ent</th>\n",
       "      <th>sfm</th>\n",
       "      <th>...</th>\n",
       "      <th>centroid</th>\n",
       "      <th>meanfun</th>\n",
       "      <th>minfun</th>\n",
       "      <th>maxfun</th>\n",
       "      <th>meandom</th>\n",
       "      <th>mindom</th>\n",
       "      <th>maxdom</th>\n",
       "      <th>dfrange</th>\n",
       "      <th>modindx</th>\n",
       "      <th>label</th>\n",
       "    </tr>\n",
       "  </thead>\n",
       "  <tbody>\n",
       "    <tr>\n",
       "      <th>0</th>\n",
       "      <td>0.059781</td>\n",
       "      <td>0.064241</td>\n",
       "      <td>0.032027</td>\n",
       "      <td>0.015071</td>\n",
       "      <td>0.090193</td>\n",
       "      <td>0.075122</td>\n",
       "      <td>12.863462</td>\n",
       "      <td>274.402906</td>\n",
       "      <td>0.893369</td>\n",
       "      <td>0.491918</td>\n",
       "      <td>...</td>\n",
       "      <td>0.059781</td>\n",
       "      <td>0.084279</td>\n",
       "      <td>0.015702</td>\n",
       "      <td>0.275862</td>\n",
       "      <td>0.007812</td>\n",
       "      <td>0.007812</td>\n",
       "      <td>0.007812</td>\n",
       "      <td>0.000000</td>\n",
       "      <td>0.000000</td>\n",
       "      <td>male</td>\n",
       "    </tr>\n",
       "    <tr>\n",
       "      <th>1</th>\n",
       "      <td>0.066009</td>\n",
       "      <td>0.067310</td>\n",
       "      <td>0.040229</td>\n",
       "      <td>0.019414</td>\n",
       "      <td>0.092666</td>\n",
       "      <td>0.073252</td>\n",
       "      <td>22.423285</td>\n",
       "      <td>634.613855</td>\n",
       "      <td>0.892193</td>\n",
       "      <td>0.513724</td>\n",
       "      <td>...</td>\n",
       "      <td>0.066009</td>\n",
       "      <td>0.107937</td>\n",
       "      <td>0.015826</td>\n",
       "      <td>0.250000</td>\n",
       "      <td>0.009014</td>\n",
       "      <td>0.007812</td>\n",
       "      <td>0.054688</td>\n",
       "      <td>0.046875</td>\n",
       "      <td>0.052632</td>\n",
       "      <td>male</td>\n",
       "    </tr>\n",
       "    <tr>\n",
       "      <th>2</th>\n",
       "      <td>0.077316</td>\n",
       "      <td>0.083829</td>\n",
       "      <td>0.036718</td>\n",
       "      <td>0.008701</td>\n",
       "      <td>0.131908</td>\n",
       "      <td>0.123207</td>\n",
       "      <td>30.757155</td>\n",
       "      <td>1024.927705</td>\n",
       "      <td>0.846389</td>\n",
       "      <td>0.478905</td>\n",
       "      <td>...</td>\n",
       "      <td>0.077316</td>\n",
       "      <td>0.098706</td>\n",
       "      <td>0.015656</td>\n",
       "      <td>0.271186</td>\n",
       "      <td>0.007990</td>\n",
       "      <td>0.007812</td>\n",
       "      <td>0.015625</td>\n",
       "      <td>0.007812</td>\n",
       "      <td>0.046512</td>\n",
       "      <td>male</td>\n",
       "    </tr>\n",
       "    <tr>\n",
       "      <th>3</th>\n",
       "      <td>0.151228</td>\n",
       "      <td>0.072111</td>\n",
       "      <td>0.158011</td>\n",
       "      <td>0.096582</td>\n",
       "      <td>0.207955</td>\n",
       "      <td>0.111374</td>\n",
       "      <td>1.232831</td>\n",
       "      <td>4.177296</td>\n",
       "      <td>0.963322</td>\n",
       "      <td>0.727232</td>\n",
       "      <td>...</td>\n",
       "      <td>0.151228</td>\n",
       "      <td>0.088965</td>\n",
       "      <td>0.017798</td>\n",
       "      <td>0.250000</td>\n",
       "      <td>0.201497</td>\n",
       "      <td>0.007812</td>\n",
       "      <td>0.562500</td>\n",
       "      <td>0.554688</td>\n",
       "      <td>0.247119</td>\n",
       "      <td>male</td>\n",
       "    </tr>\n",
       "    <tr>\n",
       "      <th>4</th>\n",
       "      <td>0.135120</td>\n",
       "      <td>0.079146</td>\n",
       "      <td>0.124656</td>\n",
       "      <td>0.078720</td>\n",
       "      <td>0.206045</td>\n",
       "      <td>0.127325</td>\n",
       "      <td>1.101174</td>\n",
       "      <td>4.333713</td>\n",
       "      <td>0.971955</td>\n",
       "      <td>0.783568</td>\n",
       "      <td>...</td>\n",
       "      <td>0.135120</td>\n",
       "      <td>0.106398</td>\n",
       "      <td>0.016931</td>\n",
       "      <td>0.266667</td>\n",
       "      <td>0.712812</td>\n",
       "      <td>0.007812</td>\n",
       "      <td>5.484375</td>\n",
       "      <td>5.476562</td>\n",
       "      <td>0.208274</td>\n",
       "      <td>male</td>\n",
       "    </tr>\n",
       "  </tbody>\n",
       "</table>\n",
       "<p>5 rows × 21 columns</p>\n",
       "</div>"
      ],
      "text/plain": [
       "   meanfreq        sd    median       Q25       Q75       IQR       skew  \\\n",
       "0  0.059781  0.064241  0.032027  0.015071  0.090193  0.075122  12.863462   \n",
       "1  0.066009  0.067310  0.040229  0.019414  0.092666  0.073252  22.423285   \n",
       "2  0.077316  0.083829  0.036718  0.008701  0.131908  0.123207  30.757155   \n",
       "3  0.151228  0.072111  0.158011  0.096582  0.207955  0.111374   1.232831   \n",
       "4  0.135120  0.079146  0.124656  0.078720  0.206045  0.127325   1.101174   \n",
       "\n",
       "          kurt    sp.ent       sfm  ...  centroid   meanfun    minfun  \\\n",
       "0   274.402906  0.893369  0.491918  ...  0.059781  0.084279  0.015702   \n",
       "1   634.613855  0.892193  0.513724  ...  0.066009  0.107937  0.015826   \n",
       "2  1024.927705  0.846389  0.478905  ...  0.077316  0.098706  0.015656   \n",
       "3     4.177296  0.963322  0.727232  ...  0.151228  0.088965  0.017798   \n",
       "4     4.333713  0.971955  0.783568  ...  0.135120  0.106398  0.016931   \n",
       "\n",
       "     maxfun   meandom    mindom    maxdom   dfrange   modindx  label  \n",
       "0  0.275862  0.007812  0.007812  0.007812  0.000000  0.000000   male  \n",
       "1  0.250000  0.009014  0.007812  0.054688  0.046875  0.052632   male  \n",
       "2  0.271186  0.007990  0.007812  0.015625  0.007812  0.046512   male  \n",
       "3  0.250000  0.201497  0.007812  0.562500  0.554688  0.247119   male  \n",
       "4  0.266667  0.712812  0.007812  5.484375  5.476562  0.208274   male  \n",
       "\n",
       "[5 rows x 21 columns]"
      ]
     },
     "execution_count": 36,
     "metadata": {},
     "output_type": "execute_result"
    }
   ],
   "source": [
    "df = pd.read_csv('voice.csv')\n",
    "df = df.dropna()\n",
    "#df.head()\n",
    "y0 = df.label.values\n",
    "#X = df.kurt.values \n",
    "X0 = df.drop('label', axis='columns') #X = df.meanfreq.values #df.drop('label', axis='columns') #df.drop(columns=[0, 2,5,7,14, 4, 20])  #df.drop('label', axis='columns')\n",
    "#X = df.drop('kurt', axis='columns')\n",
    "#X.drop(X.columns[[0, 1, 3, 5, 8, 10, 11, 13, 14, 17]], axis=1, inplace=True)\n",
    "le = LabelEncoder()\n",
    "le.fit(y0)\n",
    "newy0 = le.transform(y0)\n",
    "Xtrain0, Xtest0, ytrain0, ytest0 = train_test_split(X0, newy, test_size=0.2, random_state=0)\n",
    "df.head()\n",
    "\n"
   ]
  },
  {
   "cell_type": "code",
   "execution_count": 4,
   "metadata": {},
   "outputs": [
    {
     "data": {
      "text/plain": [
       "3168"
      ]
     },
     "execution_count": 4,
     "metadata": {},
     "output_type": "execute_result"
    }
   ],
   "source": [
    "newX = df.drop(['Q25','IQR','meanfun', 'label'], axis = 'columns')\n",
    "le = LabelEncoder()\n",
    "le.fit(y)\n",
    "newy = le.transform(y)\n",
    "Xtrain, Xtest, ytrain, ytest = train_test_split(X, newy, test_size=0.2, random_state=0)\n",
    "df.head()\n",
    "len(df)\n",
    "len (newX)\n",
    "len(newy)"
   ]
  },
  {
   "cell_type": "code",
   "execution_count": 5,
   "metadata": {},
   "outputs": [],
   "source": [
    "logRegL1 = Pipeline([\n",
    "    ('standardize', StandardScaler()),\n",
    "    ('reg', LogisticRegression(penalty='l1', solver='liblinear'))\n",
    "      \n",
    "])\n",
    "\n",
    "logRegL2 = Pipeline([\n",
    "    ('standardize', StandardScaler()),\n",
    "    ('reg', LogisticRegression(penalty='l2'))\n",
    "])"
   ]
  },
  {
   "cell_type": "code",
   "execution_count": 6,
   "metadata": {},
   "outputs": [],
   "source": [
    "#Covariance Matrix\n",
    "# Initiate logistic regression object\n",
    "logit = linear_model.LogisticRegression(penalty='l1', solver='liblinear')\n",
    "\n",
    "# Fit model. Let X_train = matrix of predictors, y_train = matrix of variable.\n",
    "# NOTE: Do not include a column for the intercept when fitting the model.\n",
    "resLogit = logit.fit(Xtrain, ytrain)\n",
    "\n",
    "# Calculate matrix of predicted class probabilities.\n",
    "# Check resLogit.classes_ to make sure that sklearn ordered your classes as expected\n",
    "predProbs = resLogit.predict_proba(Xtrain)\n",
    "\n",
    "# Design matrix -- add column of 1's at the beginning of your X_train matrix\n",
    "X_design = np.hstack([np.ones((Xtrain.shape[0], 1)), Xtrain])\n",
    "\n",
    "# Initiate matrix of 0's, fill diagonal with each predicted observation's variance\n",
    "V = np.diagflat(np.product(predProbs, axis=1))\n",
    "\n",
    "# Covariance matrix\n",
    "# Note that the @-operater does matrix multiplication in Python 3.5+, so if you're running\n",
    "# Python 3.5+, you can replace the covLogit-line below with the more readable:\n",
    "#covLogit = np.linalg.inv(X_design.T @ V @ X_design)\n",
    "covLogit = np.linalg.inv(np.dot(np.dot(X_design.T, V), X_design))\n",
    "#print(\"Covariance matrix: \", covLogit)\n",
    "\n",
    "# Standard errors\n",
    "#print(\"Standard errors: \", np.sqrt(np.diag(covLogit)))\n",
    "\n",
    "# Wald statistic (coefficient / s.e.) ^ 2\n",
    "logitParams = np.insert(resLogit.coef_, 0, resLogit.intercept_)\n",
    "#print(\"Wald statistics: \", (logitParams / np.sqrt(np.diag(covLogit))) ** 2)"
   ]
  },
  {
   "cell_type": "code",
   "execution_count": 7,
   "metadata": {},
   "outputs": [
    {
     "data": {
      "text/plain": [
       "(2534, 2)"
      ]
     },
     "execution_count": 7,
     "metadata": {},
     "output_type": "execute_result"
    }
   ],
   "source": [
    "predProbs.shape"
   ]
  },
  {
   "cell_type": "code",
   "execution_count": 8,
   "metadata": {},
   "outputs": [
    {
     "name": "stdout",
     "output_type": "stream",
     "text": [
      "[[-2.4116022   0.08378607  0.11115937  1.97790104  1.19201882 -0.65014237\n",
      "   3.47792666 -3.51122073  0.38033904 -1.08126092  0.11207081 -0.72181068\n",
      "   0.05272516 -0.08568983  0.          0.00569898 -0.22275691]] [[-1.66976176e+00  1.31242462e-01  7.65949382e-02  1.91583874e+00\n",
      "   1.09195815e+00 -5.89896326e-01  3.32798375e+00 -3.36864596e+00\n",
      "   3.72808849e-01 -1.66976176e+00  1.14189999e-01 -7.17152100e-01\n",
      "   5.93565738e-02 -8.89471907e-02 -3.57556561e-04  1.24183225e-03\n",
      "  -2.24511226e-01]]\n"
     ]
    }
   ],
   "source": [
    "#Coeffs for models with all the features \n",
    "logRegL1.fit(np.c_[newX],newy)\n",
    "logRegL2.fit(np.c_[newX],newy)\n",
    "#logRegL1.get_params([np.c_[newX],newy])\n",
    "\n",
    "coefs1 = logRegL1.named_steps['reg'].coef_\n",
    "coefs2=logRegL2.named_steps['reg'].coef_\n",
    "\n",
    "print(coefs1,coefs2)"
   ]
  },
  {
   "cell_type": "code",
   "execution_count": 9,
   "metadata": {},
   "outputs": [
    {
     "data": {
      "text/plain": [
       "(17,)"
      ]
     },
     "execution_count": 9,
     "metadata": {},
     "output_type": "execute_result"
    }
   ],
   "source": [
    "coefs1=coefs1.flatten()\n",
    "coefs1.shape"
   ]
  },
  {
   "cell_type": "code",
   "execution_count": 15,
   "metadata": {},
   "outputs": [
    {
     "name": "stdout",
     "output_type": "stream",
     "text": [
      "logReg2 0.028414926395070178\n"
     ]
    }
   ],
   "source": [
    "\n",
    "cv_score = []\n",
    "for column in Xtrain:\n",
    "    inputC = Xtrain[column].values\n",
    "    tmp_score=cross_val_score(logRegL1, inputC.reshape(-1, 1), ytrain, cv=10, scoring='neg_mean_squared_error')\n",
    "    cv_score.append(-tmp_score.mean())\n",
    "    #print('logReg1', -cv_score.mean())\n",
    "\n",
    "cv_score=cross_val_score(logRegL2, Xtrain, ytrain, cv=10, scoring='neg_mean_squared_error')\n",
    "print('logReg2', -cv_score.mean())"
   ]
  },
  {
   "cell_type": "code",
   "execution_count": 236,
   "metadata": {},
   "outputs": [],
   "source": [
    "'''\n",
    "#boot straping\n",
    "def BootstrapCoef(data,numboot,regr):\n",
    "    #theta=np.zeros((numboot,17))\n",
    "    zeta=np.zeros((numboot,17))\n",
    "    #teza=np.zeros((numboot,17,17))\n",
    "    \n",
    "    \n",
    "    n = len(data)\n",
    "    \n",
    "    \n",
    "    #theta = np.zeros((numboot,2))    \n",
    "    for i in range(numboot):\n",
    "        d = data.sample(n, replace=True)\n",
    "        Xboot=d.drop(['Q25','IQR','meanfun', 'label'], axis = 'columns')\n",
    "        y = d.label.values\n",
    "        le = LabelEncoder()\n",
    "        le.fit(y)\n",
    "        newy = le.transform(y)\n",
    "        \n",
    "        \n",
    "        X_fit = np.c_[Xboot]\n",
    "        regr.fit(X_fit,newy)\n",
    "        \n",
    "        \n",
    "        #theta=(logRegL1.named_steps['reg'].intercept_)\n",
    "        zeta[i,:]=(regr.named_steps['reg'].coef_ )\n",
    "        #teza=[theta,zeta[i,:]]\n",
    "    return zeta\n",
    "\n",
    "'''"
   ]
  },
  {
   "cell_type": "code",
   "execution_count": 11,
   "metadata": {},
   "outputs": [
    {
     "ename": "NameError",
     "evalue": "name 'BootstrapCoef' is not defined",
     "output_type": "error",
     "traceback": [
      "\u001b[1;31m---------------------------------------------------------------------------\u001b[0m",
      "\u001b[1;31mNameError\u001b[0m                                 Traceback (most recent call last)",
      "\u001b[1;32m<ipython-input-11-763d9118b772>\u001b[0m in \u001b[0;36m<module>\u001b[1;34m\u001b[0m\n\u001b[1;32m----> 1\u001b[1;33m \u001b[0mco1\u001b[0m\u001b[1;33m=\u001b[0m\u001b[0mBootstrapCoef\u001b[0m\u001b[1;33m(\u001b[0m\u001b[0mdf\u001b[0m\u001b[1;33m,\u001b[0m\u001b[1;36m300\u001b[0m\u001b[1;33m,\u001b[0m\u001b[0mlogRegL1\u001b[0m\u001b[1;33m)\u001b[0m\u001b[1;33m\u001b[0m\u001b[1;33m\u001b[0m\u001b[0m\n\u001b[0m\u001b[0;32m      2\u001b[0m \u001b[0mco1\u001b[0m\u001b[1;33m[\u001b[0m\u001b[0mi\u001b[0m\u001b[1;33m,\u001b[0m\u001b[1;33m:\u001b[0m\u001b[1;33m]\u001b[0m\u001b[1;33m.\u001b[0m\u001b[0mshape\u001b[0m\u001b[1;33m\u001b[0m\u001b[1;33m\u001b[0m\u001b[0m\n",
      "\u001b[1;31mNameError\u001b[0m: name 'BootstrapCoef' is not defined"
     ]
    }
   ],
   "source": [
    "co1=BootstrapCoef(df,300,logRegL1)\n",
    "co1[i,:].shape"
   ]
  },
  {
   "cell_type": "code",
   "execution_count": 244,
   "metadata": {},
   "outputs": [
    {
     "data": {
      "text/plain": [
       "array([[-1.67627995e+00,  1.64178817e-01,  1.98585830e-01, ...,\n",
       "         2.89816088e-04,  2.34844331e-03, -2.34552225e-01],\n",
       "       [-1.60126499e+00, -1.00396861e-01, -1.89538569e-01, ...,\n",
       "        -3.43373174e-02, -3.31328331e-02, -2.01934203e-01],\n",
       "       [-1.60877829e+00,  6.14281723e-02,  3.82819587e-02, ...,\n",
       "        -6.13260216e-02, -6.03252478e-02, -3.07100703e-01],\n",
       "       ...,\n",
       "       [-1.52721515e+00,  1.68907855e-01,  6.26766582e-02, ...,\n",
       "        -2.33908434e-02, -2.40845657e-02, -3.57237285e-01],\n",
       "       [-1.77266152e+00, -3.66076123e-02,  3.70785581e-01, ...,\n",
       "         1.31318050e-02,  1.37176174e-02, -1.59653363e-01],\n",
       "       [-1.61136798e+00,  3.64009291e-01,  2.47067233e-01, ...,\n",
       "         2.18633054e-03,  2.28672954e-03, -3.81567390e-01]])"
      ]
     },
     "execution_count": 244,
     "metadata": {},
     "output_type": "execute_result"
    }
   ],
   "source": [
    "co2=BootstrapCoef(df,300,logRegL2)\n",
    "co2\n"
   ]
  },
  {
   "cell_type": "code",
   "execution_count": 261,
   "metadata": {},
   "outputs": [
    {
     "data": {
      "image/png": "[encoded data removed]",
      "text/plain": [
       "<Figure size 432x288 with 1 Axes>"
      ]
     },
     "metadata": {
      "needs_background": "light"
     },
     "output_type": "display_data"
    },
    {
     "data": {
      "text/plain": [
       "<Figure size 432x288 with 0 Axes>"
      ]
     },
     "metadata": {},
     "output_type": "display_data"
    },
    {
     "name": "stdout",
     "output_type": "stream",
     "text": [
      "My confidence interval is between -6.761125423542875  and  -1.0919900982763342\n"
     ]
    },
    {
     "data": {
      "image/png": "[encoded data removed]",
      "text/plain": [
       "<Figure size 432x288 with 1 Axes>"
      ]
     },
     "metadata": {
      "needs_background": "light"
     },
     "output_type": "display_data"
    },
    {
     "data": {
      "text/plain": [
       "<Figure size 432x288 with 0 Axes>"
      ]
     },
     "metadata": {},
     "output_type": "display_data"
    },
    {
     "name": "stdout",
     "output_type": "stream",
     "text": [
      "My confidence interval is between -2.707201509930481  and  3.128855301764358\n"
     ]
    },
    {
     "data": {
      "image/png": "[encoded data removed]",
      "text/plain": [
       "<Figure size 432x288 with 1 Axes>"
      ]
     },
     "metadata": {
      "needs_background": "light"
     },
     "output_type": "display_data"
    },
    {
     "data": {
      "text/plain": [
       "<Figure size 432x288 with 0 Axes>"
      ]
     },
     "metadata": {},
     "output_type": "display_data"
    },
    {
     "name": "stdout",
     "output_type": "stream",
     "text": [
      "My confidence interval is between -2.768968078942925  and  2.9403960322865657\n"
     ]
    },
    {
     "data": {
      "image/png": "[encoded data removed]",
      "text/plain": [
       "<Figure size 432x288 with 1 Axes>"
      ]
     },
     "metadata": {
      "needs_background": "light"
     },
     "output_type": "display_data"
    },
    {
     "data": {
      "text/plain": [
       "<Figure size 432x288 with 0 Axes>"
      ]
     },
     "metadata": {},
     "output_type": "display_data"
    },
    {
     "name": "stdout",
     "output_type": "stream",
     "text": [
      "My confidence interval is between 0.9293956610427732  and  7.006745615609406\n"
     ]
    },
    {
     "data": {
      "image/png": "[encoded data removed]",
      "text/plain": [
       "<Figure size 432x288 with 1 Axes>"
      ]
     },
     "metadata": {
      "needs_background": "light"
     },
     "output_type": "display_data"
    },
    {
     "data": {
      "text/plain": [
       "<Figure size 432x288 with 0 Axes>"
      ]
     },
     "metadata": {},
     "output_type": "display_data"
    },
    {
     "name": "stdout",
     "output_type": "stream",
     "text": [
      "My confidence interval is between -0.6201809726657233  and  5.53982560179019\n"
     ]
    },
    {
     "data": {
      "image/png": "[encoded data removed]",
      "text/plain": [
       "<Figure size 432x288 with 1 Axes>"
      ]
     },
     "metadata": {
      "needs_background": "light"
     },
     "output_type": "display_data"
    },
    {
     "data": {
      "text/plain": [
       "<Figure size 432x288 with 0 Axes>"
      ]
     },
     "metadata": {},
     "output_type": "display_data"
    },
    {
     "name": "stdout",
     "output_type": "stream",
     "text": [
      "My confidence interval is between -4.2234054225040465  and  1.6076288690990448\n"
     ]
    },
    {
     "data": {
      "image/png": "[encoded data removed]",
      "text/plain": [
       "<Figure size 432x288 with 1 Axes>"
      ]
     },
     "metadata": {
      "needs_background": "light"
     },
     "output_type": "display_data"
    },
    {
     "data": {
      "text/plain": [
       "<Figure size 432x288 with 0 Axes>"
      ]
     },
     "metadata": {},
     "output_type": "display_data"
    },
    {
     "name": "stdout",
     "output_type": "stream",
     "text": [
      "My confidence interval is between 4.006820071222211  and  10.064616058803072\n"
     ]
    },
    {
     "data": {
      "image/png": "[encoded data removed]",
      "text/plain": [
       "<Figure size 432x288 with 1 Axes>"
      ]
     },
     "metadata": {
      "needs_background": "light"
     },
     "output_type": "display_data"
    },
    {
     "data": {
      "text/plain": [
       "<Figure size 432x288 with 0 Axes>"
      ]
     },
     "metadata": {},
     "output_type": "display_data"
    },
    {
     "name": "stdout",
     "output_type": "stream",
     "text": [
      "My confidence interval is between -9.909580760632844  and  -4.298489839684864\n"
     ]
    },
    {
     "data": {
      "image/png": "[encoded data removed]",
      "text/plain": [
       "<Figure size 432x288 with 1 Axes>"
      ]
     },
     "metadata": {
      "needs_background": "light"
     },
     "output_type": "display_data"
    },
    {
     "data": {
      "text/plain": [
       "<Figure size 432x288 with 0 Axes>"
      ]
     },
     "metadata": {},
     "output_type": "display_data"
    },
    {
     "name": "stdout",
     "output_type": "stream",
     "text": [
      "My confidence interval is between -2.249110858616615  and  3.482107083515557\n"
     ]
    },
    {
     "data": {
      "image/png": "[encoded data removed]",
      "text/plain": [
       "<Figure size 432x288 with 1 Axes>"
      ]
     },
     "metadata": {
      "needs_background": "light"
     },
     "output_type": "display_data"
    },
    {
     "data": {
      "text/plain": [
       "<Figure size 432x288 with 0 Axes>"
      ]
     },
     "metadata": {},
     "output_type": "display_data"
    },
    {
     "name": "stdout",
     "output_type": "stream",
     "text": [
      "My confidence interval is between -5.561583343855132  and  -0.4296901641407216\n"
     ]
    },
    {
     "data": {
      "image/png": "[encoded data removed]",
      "text/plain": [
       "<Figure size 432x288 with 1 Axes>"
      ]
     },
     "metadata": {
      "needs_background": "light"
     },
     "output_type": "display_data"
    },
    {
     "data": {
      "text/plain": [
       "<Figure size 432x288 with 0 Axes>"
      ]
     },
     "metadata": {},
     "output_type": "display_data"
    },
    {
     "name": "stdout",
     "output_type": "stream",
     "text": [
      "My confidence interval is between -2.7683730380717195  and  3.258765669758002\n"
     ]
    },
    {
     "data": {
      "image/png": "[encoded data removed]",
      "text/plain": [
       "<Figure size 432x288 with 1 Axes>"
      ]
     },
     "metadata": {
      "needs_background": "light"
     },
     "output_type": "display_data"
    },
    {
     "data": {
      "text/plain": [
       "<Figure size 432x288 with 0 Axes>"
      ]
     },
     "metadata": {},
     "output_type": "display_data"
    },
    {
     "name": "stdout",
     "output_type": "stream",
     "text": [
      "My confidence interval is between -4.32373309571628  and  1.5199920507293476\n"
     ]
    },
    {
     "data": {
      "image/png": "[encoded data removed]",
      "text/plain": [
       "<Figure size 432x288 with 1 Axes>"
      ]
     },
     "metadata": {
      "needs_background": "light"
     },
     "output_type": "display_data"
    },
    {
     "data": {
      "text/plain": [
       "<Figure size 432x288 with 0 Axes>"
      ]
     },
     "metadata": {},
     "output_type": "display_data"
    },
    {
     "name": "stdout",
     "output_type": "stream",
     "text": [
      "My confidence interval is between -2.736362244108355  and  3.0796825139226547\n"
     ]
    },
    {
     "data": {
      "image/png": "[encoded data removed]",
      "text/plain": [
       "<Figure size 432x288 with 1 Axes>"
      ]
     },
     "metadata": {
      "needs_background": "light"
     },
     "output_type": "display_data"
    },
    {
     "data": {
      "text/plain": [
       "<Figure size 432x288 with 0 Axes>"
      ]
     },
     "metadata": {},
     "output_type": "display_data"
    },
    {
     "name": "stdout",
     "output_type": "stream",
     "text": [
      "My confidence interval is between -2.9913894644538686  and  2.6803405428812463\n"
     ]
    },
    {
     "data": {
      "image/png": "[encoded data removed]",
      "text/plain": [
       "<Figure size 432x288 with 1 Axes>"
      ]
     },
     "metadata": {
      "needs_background": "light"
     },
     "output_type": "display_data"
    },
    {
     "data": {
      "text/plain": [
       "<Figure size 432x288 with 0 Axes>"
      ]
     },
     "metadata": {},
     "output_type": "display_data"
    },
    {
     "name": "stdout",
     "output_type": "stream",
     "text": [
      "My confidence interval is between -2.8944931296767757  and  3.0172842311353056\n"
     ]
    },
    {
     "data": {
      "image/png": "[encoded data removed]",
      "text/plain": [
       "<Figure size 432x288 with 1 Axes>"
      ]
     },
     "metadata": {
      "needs_background": "light"
     },
     "output_type": "display_data"
    },
    {
     "data": {
      "text/plain": [
       "<Figure size 432x288 with 0 Axes>"
      ]
     },
     "metadata": {},
     "output_type": "display_data"
    },
    {
     "name": "stdout",
     "output_type": "stream",
     "text": [
      "My confidence interval is between -2.8603968783057656  and  2.8196061944758517\n"
     ]
    },
    {
     "data": {
      "image/png": "[encoded data removed]",
      "text/plain": [
       "<Figure size 432x288 with 1 Axes>"
      ]
     },
     "metadata": {
      "needs_background": "light"
     },
     "output_type": "display_data"
    },
    {
     "data": {
      "text/plain": [
       "<Figure size 432x288 with 0 Axes>"
      ]
     },
     "metadata": {},
     "output_type": "display_data"
    },
    {
     "name": "stdout",
     "output_type": "stream",
     "text": [
      "My confidence interval is between -3.391856596676759  and  2.810184370374274\n"
     ]
    }
   ],
   "source": [
    "#confidence interval for the features, LogRegL1\n",
    "i=0\n",
    "while i < 17:\n",
    "\n",
    "   bs_res = co1[i,:]-coefs1[i]\n",
    "   #print(bs_res)\n",
    "\n",
    "   plt.hist(bs_res, edgecolor = 'white', density=True)\n",
    "   plt.figure()\n",
    "   plt.show() \n",
    "   \n",
    "   ci_lower, ci_upper = np.quantile(bs_res, [0.025, 0.975])\n",
    "   boot_ci = [coefs1[i] - ci_upper, \n",
    "              coefs1[i]- ci_lower]\n",
    "\n",
    "   print('My confidence interval is between', boot_ci[0], ' and ', boot_ci[1])\n",
    "   i=i+1 "
   ]
  },
  {
   "cell_type": "code",
   "execution_count": 12,
   "metadata": {},
   "outputs": [],
   "source": [
    "#Bootstrap for accuracies\n",
    "\n",
    "def BootstrapPred(data,numboot,regr):\n",
    "    Y_Pred=[]   \n",
    "    #y_pred=np.zeros((numboot,3168))\n",
    "    Acc=[]\n",
    "    #n_size=int(n*0.5)\n",
    "    \n",
    "    n=len(data)\n",
    "    #theta = np.zeros((numboot,2))    \n",
    "    for i in range(numboot):\n",
    "    \n",
    "        \n",
    "        \n",
    "        d = data.sample(n, replace=True)\n",
    "        y = d.label.values\n",
    "        le = LabelEncoder()\n",
    "        le.fit(y)\n",
    "        newy = le.transform(y)\n",
    "        \n",
    "        Xboot=d.drop(['Q25','IQR','meanfun', 'label'], axis = 'columns')\n",
    "        \n",
    "        \n",
    "        \n",
    "        \n",
    "        \n",
    "        #Xtrain, Xtest, ytrain, ytest = train_test_split(Xboot,newy,test_size=0.5, random_state=0)\n",
    "        \n",
    "        \n",
    "        X_fit = np.c_[Xboot]\n",
    "        regr.fit(X_fit,newy)\n",
    "        X=np.array(Xboot)\n",
    "        \n",
    "        y_pred=regr.predict(X)\n",
    "        Y_Pred.append(y_pred)\n",
    "        \n",
    "        \n",
    "        classes=regr.fit(X_fit,newy).classes_\n",
    "        tp = sum(np.logical_and(y_pred == classes[1], newy == classes[1]))\n",
    "        tn = sum(np.logical_and(y_pred == classes[0], newy == classes[0]))\n",
    "        fp = sum(np.logical_and(y_pred == classes[1], newy == classes[0]))\n",
    "        fn = sum(np.logical_and(y_pred == classes[0], newy == classes[1]))\n",
    "\n",
    "        #print(f\"tp: {tp} tn: {tn} fp: {fp} fn: {fn}\")\n",
    "        acc = (tp + tn) / (tp + tn + fp + fn)\n",
    "        precision = tp / (tp + fp)\n",
    "        recall = tp / (tp + fn)    \n",
    "        sensitivity = recall\n",
    "        specificity = tn / (fp + tn)\n",
    "        Acc.append(acc)\n",
    "\n",
    "\n",
    "    return Acc\n"
   ]
  },
  {
   "cell_type": "code",
   "execution_count": 13,
   "metadata": {},
   "outputs": [],
   "source": [
    "Acc1=BootstrapPred(df,300,logRegL1)\n"
   ]
  },
  {
   "cell_type": "code",
   "execution_count": 17,
   "metadata": {},
   "outputs": [
    {
     "name": "stdout",
     "output_type": "stream",
     "text": [
      "[0.8386994949494949, 0.8519570707070707, 0.8386994949494949, 0.8503787878787878, 0.8380681818181818, 0.8377525252525253, 0.8308080808080808, 0.8377525252525253, 0.8358585858585859, 0.8472222222222222, 0.834280303030303, 0.8611111111111112, 0.8488005050505051, 0.8450126262626263, 0.8494318181818182, 0.8560606060606061, 0.8459595959595959, 0.8617424242424242, 0.853219696969697, 0.8361742424242424, 0.8279671717171717, 0.851010101010101, 0.8469065656565656, 0.8491161616161617, 0.8273358585858586, 0.8424873737373737, 0.8585858585858586, 0.8557449494949495, 0.84375, 0.8516414141414141, 0.8686868686868687, 0.8488005050505051, 0.8516414141414141, 0.8525883838383839, 0.8273358585858586, 0.8579545454545454, 0.8456439393939394, 0.8462752525252525, 0.8459595959595959, 0.8585858585858586, 0.834280303030303, 0.8484848484848485, 0.8465909090909091, 0.8390151515151515, 0.8465909090909091, 0.8554292929292929, 0.8443813131313131, 0.8402777777777778, 0.8323863636363636, 0.8478535353535354, 0.8522727272727273, 0.8311237373737373, 0.8450126262626263, 0.8503787878787878, 0.8402777777777778, 0.8557449494949495, 0.8462752525252525, 0.8525883838383839, 0.8431186868686869, 0.8446969696969697, 0.8525883838383839, 0.8330176767676768, 0.8513257575757576, 0.8418560606060606, 0.8456439393939394, 0.851010101010101, 0.8478535353535354, 0.851010101010101, 0.8434343434343434, 0.8434343434343434, 0.8399621212121212, 0.8513257575757576, 0.8456439393939394, 0.8383838383838383, 0.8462752525252525, 0.8611111111111112, 0.8551136363636364, 0.8630050505050505, 0.8506944444444444, 0.8412247474747475, 0.8494318181818182, 0.8585858585858586, 0.8516414141414141, 0.8469065656565656, 0.8544823232323232, 0.8320707070707071, 0.8390151515151515, 0.8418560606060606, 0.8393308080808081, 0.827020202020202, 0.83364898989899, 0.8547979797979798, 0.8361742424242424, 0.8396464646464646, 0.8402777777777778, 0.8652146464646465, 0.8478535353535354, 0.8592171717171717, 0.8443813131313131, 0.8658459595959596, 0.8434343434343434, 0.8598484848484849, 0.8491161616161617, 0.8589015151515151, 0.8529040404040404, 0.8544823232323232, 0.84375, 0.8614267676767676, 0.8386994949494949, 0.8494318181818182, 0.8409090909090909, 0.8560606060606061, 0.8415404040404041, 0.8579545454545454, 0.8383838383838383, 0.8443813131313131, 0.8383838383838383, 0.86489898989899, 0.8456439393939394, 0.8428030303030303, 0.8390151515151515, 0.8456439393939394, 0.8415404040404041, 0.8355429292929293, 0.8576388888888888, 0.8576388888888888, 0.8345959595959596, 0.8402777777777778, 0.8513257575757576, 0.8383838383838383, 0.8399621212121212, 0.8453282828282829, 0.8434343434343434, 0.8529040404040404, 0.8355429292929293, 0.8554292929292929, 0.8469065656565656, 0.8570075757575758, 0.8390151515151515, 0.8317550505050505, 0.8513257575757576, 0.860479797979798, 0.8330176767676768, 0.853219696969697, 0.8393308080808081, 0.8434343434343434, 0.8475378787878788, 0.8607954545454546, 0.858270202020202, 0.8377525252525253, 0.8519570707070707, 0.84375, 0.8519570707070707, 0.8434343434343434, 0.8308080808080808, 0.8459595959595959, 0.8554292929292929, 0.8592171717171717, 0.8506944444444444, 0.8481691919191919, 0.8396464646464646, 0.8402777777777778, 0.8421717171717171, 0.8469065656565656, 0.8371212121212122, 0.8323863636363636, 0.8418560606060606, 0.8459595959595959, 0.8409090909090909, 0.8399621212121212, 0.8478535353535354, 0.8506944444444444, 0.8472222222222222, 0.8484848484848485, 0.8421717171717171, 0.8393308080808081, 0.8399621212121212, 0.8399621212121212, 0.8412247474747475, 0.8374368686868687, 0.8563762626262627, 0.8380681818181818, 0.8472222222222222, 0.8522727272727273, 0.8570075757575758, 0.8339646464646465, 0.858270202020202, 0.8535353535353535, 0.8371212121212122, 0.8475378787878788, 0.8390151515151515, 0.8488005050505051, 0.8472222222222222, 0.8472222222222222, 0.8491161616161617, 0.8446969696969697, 0.8393308080808081, 0.851010101010101, 0.8541666666666666, 0.8595328282828283, 0.834280303030303, 0.8421717171717171, 0.8554292929292929, 0.8462752525252525, 0.8361742424242424, 0.8428030303030303, 0.8330176767676768, 0.8573232323232324, 0.8431186868686869, 0.8595328282828283, 0.8418560606060606, 0.8475378787878788, 0.8746843434343434, 0.8453282828282829, 0.8589015151515151, 0.8513257575757576, 0.8513257575757576, 0.8418560606060606, 0.8273358585858586, 0.8506944444444444, 0.8320707070707071, 0.8491161616161617, 0.8544823232323232, 0.851010101010101, 0.8368055555555556, 0.8551136363636364, 0.8380681818181818, 0.8289141414141414, 0.851010101010101, 0.8554292929292929, 0.8551136363636364, 0.860479797979798, 0.8626893939393939, 0.853219696969697, 0.8519570707070707, 0.8285984848484849, 0.8469065656565656, 0.8415404040404041, 0.8469065656565656, 0.8462752525252525, 0.8374368686868687, 0.8443813131313131, 0.8409090909090909, 0.8535353535353535, 0.8409090909090909, 0.8491161616161617, 0.8301767676767676, 0.8503787878787878, 0.8371212121212122, 0.8497474747474747, 0.8386994949494949, 0.853219696969697, 0.8478535353535354, 0.8494318181818182, 0.8554292929292929, 0.8428030303030303, 0.8434343434343434, 0.8393308080808081, 0.8488005050505051, 0.8393308080808081, 0.8522727272727273, 0.8327020202020202, 0.8570075757575758, 0.8576388888888888, 0.8235479797979798, 0.860479797979798, 0.8371212121212122, 0.8405934343434344, 0.8693181818181818, 0.8570075757575758, 0.8667929292929293, 0.8573232323232324, 0.8500631313131313, 0.8478535353535354, 0.8459595959595959, 0.84375, 0.8513257575757576, 0.8522727272727273, 0.8399621212121212, 0.8478535353535354, 0.83364898989899, 0.8491161616161617, 0.8506944444444444, 0.8544823232323232, 0.8434343434343434, 0.8563762626262627, 0.8494318181818182, 0.8409090909090909, 0.8589015151515151, 0.8383838383838383, 0.8529040404040404, 0.8320707070707071, 0.8371212121212122, 0.8491161616161617, 0.8525883838383839, 0.8607954545454546, 0.8374368686868687, 0.8459595959595959, 0.8544823232323232, 0.8503787878787878]\n"
     ]
    }
   ],
   "source": [
    "print(Acc1)"
   ]
  },
  {
   "cell_type": "code",
   "execution_count": 31,
   "metadata": {},
   "outputs": [
    {
     "data": {
      "image/png": "[encoded data removed]",
      "text/plain": [
       "<Figure size 432x288 with 1 Axes>"
      ]
     },
     "metadata": {
      "needs_background": "light"
     },
     "output_type": "display_data"
    },
    {
     "name": "stdout",
     "output_type": "stream",
     "text": [
      "95.0 confidence interval 83.0% and 86.3%\n"
     ]
    }
   ],
   "source": [
    "# plot Accs\n",
    "pyplot.xlabel('Accuracy %',fontsize=15)\n",
    "pyplot.ylabel('Frequency',fontsize=15)\n",
    "pyplot.hist(Acc1)\n",
    "pyplot.savefig(r'C:\\Users\\Farnoush\\Desktop\\CS Project\\ConfidenceInterval1.png')\n",
    "pyplot.show()\n",
    "# confidence intervals\n",
    "alpha = 0.95\n",
    "p = ((1.0-alpha)/2.0) * 100\n",
    "lower = max(0.0, np.percentile(Acc1, p))\n",
    "p = (alpha+((1.0-alpha)/2.0)) * 100\n",
    "upper = min(1.0, np.percentile(Acc1, p))\n",
    "print('%.1f confidence interval %.1f%% and %.1f%%' % (alpha*100, lower*100, upper*100))\n",
    "\n"
   ]
  },
  {
   "cell_type": "code",
   "execution_count": 27,
   "metadata": {},
   "outputs": [],
   "source": [
    "Acc2=BootstrapPred(df,300,logRegL2)\n"
   ]
  },
  {
   "cell_type": "code",
   "execution_count": 30,
   "metadata": {
    "scrolled": true
   },
   "outputs": [
    {
     "data": {
      "image/png": "[encoded data removed]",
      "text/plain": [
       "<Figure size 432x288 with 1 Axes>"
      ]
     },
     "metadata": {
      "needs_background": "light"
     },
     "output_type": "display_data"
    },
    {
     "name": "stdout",
     "output_type": "stream",
     "text": [
      "95.0 confidence interval 83.0% and 86.5%\n"
     ]
    }
   ],
   "source": [
    "# plot Accs\n",
    "pyplot.xlabel('Accuracy %',fontsize=15)\n",
    "pyplot.ylabel('Frequency',fontsize=15)\n",
    "pyplot.hist(Acc2)\n",
    "pyplot.savefig(r'C:\\Users\\Farnoush\\Desktop\\CS Project\\ConfidenceInterval2.png')\n",
    "pyplot.show()\n",
    "# confidence intervals\n",
    "alpha = 0.95\n",
    "p = ((1.0-alpha)/2.0) * 100\n",
    "lower = max(0.0, np.percentile(Acc2, p))\n",
    "p = (alpha+((1.0-alpha)/2.0)) * 100\n",
    "upper = min(1.0, np.percentile(Acc2, p))\n",
    "print('%.1f confidence interval %.1f%% and %.1f%%' % (alpha*100, lower*100, upper*100))"
   ]
  },
  {
   "cell_type": "code",
   "execution_count": 33,
   "metadata": {
    "scrolled": true
   },
   "outputs": [
    {
     "name": "stdout",
     "output_type": "stream",
     "text": [
      "meanfreq :-----------------------\n",
      "Accuracy: 0.651 Recall: 0.571 Precision: 0.709\n",
      "sd :-----------------------\n",
      "Accuracy: 0.782 Recall: 0.823 Precision: 0.776\n",
      "median :-----------------------\n",
      "Accuracy: 0.642 Recall: 0.568 Precision: 0.695\n",
      "Q25 :-----------------------\n",
      "Accuracy: 0.853 Recall: 0.856 Precision: 0.864\n",
      "Q75 :-----------------------\n",
      "Accuracy: 0.525 Recall: 0.502 Precision: 0.553\n",
      "IQR :-----------------------\n",
      "Accuracy: 0.894 Recall: 0.934 Precision: 0.874\n",
      "skew :-----------------------\n",
      "Accuracy: 0.486 Recall: 0.081 Precision: 0.574\n",
      "kurt :-----------------------\n",
      "Accuracy: 0.491 Recall: 0.078 Precision: 0.619\n",
      "sp.ent :-----------------------\n",
      "Accuracy: 0.738 Recall: 0.73 Precision: 0.762\n",
      "sfm :-----------------------\n",
      "Accuracy: 0.65 Recall: 0.595 Precision: 0.695\n",
      "mode :-----------------------\n",
      "Accuracy: 0.67 Recall: 0.523 Precision: 0.777\n",
      "centroid :-----------------------\n",
      "Accuracy: 0.651 Recall: 0.571 Precision: 0.709\n",
      "meanfun :-----------------------\n",
      "Accuracy: 0.954 Recall: 0.967 Precision: 0.947\n",
      "minfun :-----------------------\n",
      "Accuracy: 0.535 Recall: 0.502 Precision: 0.564\n",
      "maxfun :-----------------------\n",
      "Accuracy: 0.514 Recall: 0.318 Precision: 0.567\n",
      "meandom :-----------------------\n",
      "Accuracy: 0.568 Recall: 0.598 Precision: 0.587\n",
      "mindom :-----------------------\n",
      "Accuracy: 0.59 Recall: 0.802 Precision: 0.579\n",
      "maxdom :-----------------------\n",
      "Accuracy: 0.571 Recall: 0.55 Precision: 0.6\n",
      "dfrange :-----------------------\n",
      "Accuracy: 0.574 Recall: 0.556 Precision: 0.603\n",
      "modindx :-----------------------\n",
      "Accuracy: 0.478 Recall: 0.225 Precision: 0.507\n"
     ]
    }
   ],
   "source": [
    "def compute_performance(yhat, y, classes):\n",
    "    tp = sum(np.logical_and(yhat == classes[1], y == classes[1]))\n",
    "    tn = sum(np.logical_and(yhat == classes[0], y == classes[0]))\n",
    "    fp = sum(np.logical_and(yhat == classes[1], y == classes[0]))\n",
    "    fn = sum(np.logical_and(yhat == classes[0], y == classes[1]))\n",
    "\n",
    "    #print(f\"tp: {tp} tn: {tn} fp: {fp} fn: {fn}\")\n",
    "    acc = (tp + tn) / (tp + tn + fp + fn)\n",
    "    precision = tp / (tp + fp)\n",
    "    recall = tp / (tp + fn)    \n",
    "    sensitivity = recall\n",
    "    specificity = tn / (fp + tn)\n",
    "    \n",
    "    print(\"Accuracy:\",round(acc,3),\"Recall:\",round(recall,3),\"Precision:\",round(precision,3))\n",
    "\n",
    "    #print(\"Accuracy:\",round(acc,3),\"Recall:\",round(recall,3),\"Precision:\",round(precision,3),\n",
    "          #\"Sensitivity:\",round(sensitivity,3),\"Specificity:\",round(specificity,3))\n",
    "\n",
    "\n",
    "#d\n",
    "\n",
    "for column in Xtrain:\n",
    "    inputC = Xtrain[column].values\n",
    "    res = logRegL1.fit(inputC.reshape(-1, 1), ytrain)\n",
    "    \n",
    "    testInputC = Xtest[column].values\n",
    "    ytest_hat = res.predict(testInputC.reshape(-1, 1))\n",
    "    print(column, ':-----------------------')\n",
    "    compute_performance(ytest_hat, ytest, res.classes_)\n",
    "\n",
    "#res = logRegL2.fit(Xtrain, ytrain)\n",
    "#ytest_hat = res.predict(Xtest)\n",
    "#compute_performance(ytest_hat, ytest, res.classes_)"
   ]
  },
  {
   "cell_type": "code",
   "execution_count": 37,
   "metadata": {},
   "outputs": [
    {
     "name": "stdout",
     "output_type": "stream",
     "text": [
      "Accuracy: 0.972 Recall: 0.985 Precision: 0.962\n"
     ]
    }
   ],
   "source": [
    "#Accuracy for LogRegL1 for when we have absoultoly all the features\n",
    "res10 = logRegL1.fit(Xtrain0, ytrain0)\n",
    "ytest_hat0 = res10.predict(Xtest0)\n",
    "compute_performance(ytest_hat0, ytest0, res10.classes_)"
   ]
  },
  {
   "cell_type": "code",
   "execution_count": 38,
   "metadata": {},
   "outputs": [
    {
     "name": "stdout",
     "output_type": "stream",
     "text": [
      "Accuracy: 0.972 Recall: 0.985 Precision: 0.962\n"
     ]
    }
   ],
   "source": [
    "#Accuracy for LogRegL1 for when we have almost all the features\n",
    "res1 = logRegL1.fit(Xtrain, ytrain)\n",
    "ytest_hat = res1.predict(Xtest)\n",
    "compute_performance(ytest_hat, ytest, res1.classes_)"
   ]
  },
  {
   "cell_type": "code",
   "execution_count": 40,
   "metadata": {},
   "outputs": [
    {
     "name": "stdout",
     "output_type": "stream",
     "text": [
      "Accuracy: 0.972 Recall: 0.985 Precision: 0.962\n"
     ]
    },
    {
     "data": {
      "image/png": "[encoded data removed]",
      "text/plain": [
       "<Figure size 432x288 with 1 Axes>"
      ]
     },
     "metadata": {
      "needs_background": "light"
     },
     "output_type": "display_data"
    }
   ],
   "source": [
    "#Auc when we have almost all the features\n",
    "res1 = logRegL1.fit(Xtrain, ytrain)\n",
    "ytest_hat = res1.predict(Xtest)\n",
    "compute_performance(ytest_hat, ytest, res1.classes_)\n",
    "\n",
    "def aucPloter(model, ytest, Xtest):\n",
    "    #ytest_probability = logRegL1['reg'].predict_proba(Xtest)\n",
    "    ytest_probability = model.predict_proba(Xtest)\n",
    "    fpr, tpr, _ = roc_curve(ytest, ytest_probability[:,1], pos_label=1)\n",
    "    ax=sns.lineplot(x=fpr, y=tpr)\n",
    "    ax.set(xlabel=\"FPR\",ylabel=\"TPR\")\n",
    "    pyplot.savefig(r'C:\\Users\\Farnoush\\Desktop\\CS Project\\Auc1.png')\n",
    "    auc(fpr,tpr)\n",
    "aucPloter(res1, ytest, Xtest)\n",
    "\n",
    "#testInputC"
   ]
  },
  {
   "cell_type": "code",
   "execution_count": 41,
   "metadata": {},
   "outputs": [
    {
     "data": {
      "image/png": "[encoded data removed]",
      "text/plain": [
       "<Figure size 432x288 with 1 Axes>"
      ]
     },
     "metadata": {
      "needs_background": "light"
     },
     "output_type": "display_data"
    }
   ],
   "source": [
    "#Roc for LogRegL1 for when we have almost all  of the features\n",
    "def rocPloter(model, ytest, Xtest):\n",
    "    ytest_prob = model.predict_proba(Xtest)\n",
    "    precision, recall, _ = precision_recall_curve(ytest, ytest_prob[:,1], pos_label=1)\n",
    "    ax=sns.lineplot(x=recall, y=precision)\n",
    "    ax.set(xlabel=\"Recall\",ylabel=\"Precision\")\n",
    "    pyplot.savefig(r'C:\\Users\\Farnoush\\Desktop\\CS Project\\Roc1.png')\n",
    "rocPloter(res1, ytest, Xtest)\n"
   ]
  },
  {
   "cell_type": "code",
   "execution_count": 20,
   "metadata": {},
   "outputs": [
    {
     "name": "stdout",
     "output_type": "stream",
     "text": [
      "Accuracy: 0.973 Recall: 0.985 Precision: 0.965\n"
     ]
    }
   ],
   "source": [
    "#Accuracy when LogRegL2 when we have all the features\n",
    "res2 = logRegL2.fit(Xtrain, ytrain)\n",
    "ytest_hat = res2.predict(Xtest)\n",
    "compute_performance(ytest_hat, ytest, res2.classes_)"
   ]
  },
  {
   "cell_type": "code",
   "execution_count": 21,
   "metadata": {},
   "outputs": [
    {
     "name": "stdout",
     "output_type": "stream",
     "text": [
      "0.1\n",
      "Accuracy: 0.732 Recall: 0.737 Precision: 0.75\n",
      "0.2\n",
      "Accuracy: 0.702 Recall: 0.703 Precision: 0.722\n",
      "0.30000000000000004\n",
      "Accuracy: 0.698 Recall: 0.715 Precision: 0.707\n",
      "0.4\n",
      "Accuracy: 0.695 Recall: 0.695 Precision: 0.713\n",
      "0.5\n",
      "Accuracy: 0.701 Recall: 0.702 Precision: 0.711\n",
      "0.6\n",
      "Accuracy: 0.698 Recall: 0.706 Precision: 0.698\n",
      "0.7000000000000001\n",
      "Accuracy: 0.703 Recall: 0.737 Precision: 0.694\n",
      "0.8\n",
      "Accuracy: 0.702 Recall: 0.762 Precision: 0.679\n",
      "0.9\n",
      "Accuracy: 0.694 Recall: 0.678 Precision: 0.704\n"
     ]
    }
   ],
   "source": [
    "#Accuracy for different sizes of traing sets\n",
    "size=np.linspace(0.1, 0.9, num=9)\n",
    "newX23 = df.drop(['Q25','IQR','meanfun', 'label','sp.ent','sfm','sd','centroid','median','meanfreq'], axis = 'columns')\n",
    "\n",
    "for i in size:\n",
    "    Xtrain, Xtest, ytrain, ytest = train_test_split(newX23, newy, test_size=i, random_state=0) \n",
    "    print(i)\n",
    "    res1 = logRegL1.fit(Xtrain, ytrain)\n",
    "    ytest_hat = res1.predict(Xtest)\n",
    "    compute_performance(ytest_hat, ytest, res1.classes_)"
   ]
  },
  {
   "cell_type": "code",
   "execution_count": 43,
   "metadata": {},
   "outputs": [
    {
     "data": {
      "text/plain": [
       "3168"
      ]
     },
     "execution_count": 43,
     "metadata": {},
     "output_type": "execute_result"
    }
   ],
   "source": [
    "#dataframe with some of the features\n",
    "newX1 = df.drop(['Q25','IQR','meanfun', 'label','sp.ent','sfm','sd'], axis = 'columns')\n",
    "y = df.label.values\n",
    "le = LabelEncoder()\n",
    "le.fit(y)\n",
    "newy1 = le.transform(y)\n",
    "Xtrain1, Xtest1, ytrain1, ytest1 = train_test_split(newX1, newy, test_size=0.2, random_state=0)\n",
    "df.head()\n",
    "len(df)\n",
    "len (newX1)\n",
    "len(newy1)"
   ]
  },
  {
   "cell_type": "code",
   "execution_count": 44,
   "metadata": {},
   "outputs": [
    {
     "name": "stdout",
     "output_type": "stream",
     "text": [
      "Accuracy: 0.828 Recall: 0.832 Precision: 0.839\n"
     ]
    }
   ],
   "source": [
    "#Accuracy for LogRegL1 for when we have some of the features\n",
    "res11 = logRegL1.fit(Xtrain1, ytrain1)\n",
    "ytest_hat1 = res11.predict(Xtest1)\n",
    "compute_performance(ytest_hat1, ytest1, res11.classes_)"
   ]
  },
  {
   "cell_type": "code",
   "execution_count": 45,
   "metadata": {},
   "outputs": [
    {
     "name": "stdout",
     "output_type": "stream",
     "text": [
      "Accuracy: 0.828 Recall: 0.832 Precision: 0.839\n"
     ]
    },
    {
     "data": {
      "image/png": "[encoded data removed]",
      "text/plain": [
       "<Figure size 432x288 with 1 Axes>"
      ]
     },
     "metadata": {
      "needs_background": "light"
     },
     "output_type": "display_data"
    }
   ],
   "source": [
    "#Auc for LogRegL1 for when we have some of the features\n",
    "\n",
    "res11 = logRegL1.fit(Xtrain1, ytrain1)\n",
    "ytest_hat1 = res11.predict(Xtest1)\n",
    "compute_performance(ytest_hat1, ytest1, res11.classes_)\n",
    "\n",
    "def aucPloter(model, ytest, Xtest):\n",
    "    #ytest_probability = logRegL1['reg'].predict_proba(Xtest)\n",
    "    ytest_probability = model.predict_proba(Xtest)\n",
    "    fpr, tpr, _ = roc_curve(ytest, ytest_probability[:,1], pos_label=1)\n",
    "    ax=sns.lineplot(x=fpr, y=tpr)\n",
    "    ax.set(xlabel=\"FPR\",ylabel=\"TPR\")\n",
    "    pyplot.savefig(r'C:\\Users\\Farnoush\\Desktop\\CS Project\\Auc2.png')\n",
    "    auc(fpr,tpr)\n",
    "aucPloter(res11, ytest1, Xtest1)\n",
    "#testInputC"
   ]
  },
  {
   "cell_type": "code",
   "execution_count": 46,
   "metadata": {},
   "outputs": [
    {
     "data": {
      "image/png": "[encoded data removed]",
      "text/plain": [
       "<Figure size 432x288 with 1 Axes>"
      ]
     },
     "metadata": {
      "needs_background": "light"
     },
     "output_type": "display_data"
    }
   ],
   "source": [
    "#Roc for LogRegL1 for when we have some of the features\n",
    "def rocPloter(model, ytest, Xtest):\n",
    "    ytest_prob = model.predict_proba(Xtest)\n",
    "    precision, recall, _ = precision_recall_curve(ytest, ytest_prob[:,1], pos_label=1)\n",
    "    ax=sns.lineplot(x=recall, y=precision)\n",
    "    ax.set(xlabel=\"Recall\",ylabel=\"Precision\")\n",
    "    pyplot.savefig(r'C:\\Users\\Farnoush\\Desktop\\CS Project\\Roc2.png')\n",
    "rocPloter(res11, ytest1, Xtest1)\n"
   ]
  },
  {
   "cell_type": "code",
   "execution_count": 58,
   "metadata": {},
   "outputs": [],
   "source": [
    "#Bootstrap for accuracies for when we have some of the features\n",
    "\n",
    "def BootstrapPred2(data,numboot,regr):\n",
    "    Y_Pred=[]   \n",
    "    #y_pred=np.zeros((numboot,3168))\n",
    "    Acc=[]\n",
    "    #n_size=int(n*0.5)\n",
    "    \n",
    "    n=len(data)\n",
    "    #theta = np.zeros((numboot,2))    \n",
    "    for i in range(numboot):\n",
    "    \n",
    "        \n",
    "        \n",
    "        d = data.sample(n, replace=True)\n",
    "        y = d.label.values\n",
    "        le = LabelEncoder()\n",
    "        le.fit(y)\n",
    "        newy = le.transform(y)\n",
    "        \n",
    "        Xboot = d.drop(['Q25','IQR','meanfun', 'label','sp.ent','sfm','sd'], axis = 'columns')\n",
    "        \n",
    "        \n",
    "        #Xtrain, Xtest, ytrain, ytest = train_test_split(Xboot,newy,test_size=0.5, random_state=0)\n",
    "        \n",
    "        \n",
    "        X_fit = np.c_[Xboot]\n",
    "        regr.fit(X_fit,newy)\n",
    "        X=np.array(Xboot)\n",
    "        \n",
    "        y_pred=regr.predict(X)\n",
    "        Y_Pred.append(y_pred)\n",
    "        \n",
    "        \n",
    "        classes=regr.fit(X_fit,newy).classes_\n",
    "        tp = sum(np.logical_and(y_pred == classes[1], newy == classes[1]))\n",
    "        tn = sum(np.logical_and(y_pred == classes[0], newy == classes[0]))\n",
    "        fp = sum(np.logical_and(y_pred == classes[1], newy == classes[0]))\n",
    "        fn = sum(np.logical_and(y_pred == classes[0], newy == classes[1]))\n",
    "\n",
    "        #print(f\"tp: {tp} tn: {tn} fp: {fp} fn: {fn}\")\n",
    "        acc = (tp + tn) / (tp + tn + fp + fn)\n",
    "        precision = tp / (tp + fp)\n",
    "        recall = tp / (tp + fn)    \n",
    "        sensitivity = recall\n",
    "        specificity = tn / (fp + tn)\n",
    "        Acc.append(acc)\n",
    "\n",
    "\n",
    "    return Acc\n"
   ]
  },
  {
   "cell_type": "code",
   "execution_count": 59,
   "metadata": {},
   "outputs": [
    {
     "data": {
      "text/plain": [
       "[0.8295454545454546,\n",
       " 0.8194444444444444,\n",
       " 0.8184974747474747,\n",
       " 0.8207070707070707,\n",
       " 0.8254419191919192,\n",
       " 0.8244949494949495,\n",
       " 0.8339646464646465,\n",
       " 0.8203914141414141,\n",
       " 0.8308080808080808,\n",
       " 0.8276515151515151,\n",
       " 0.8431186868686869,\n",
       " 0.8162878787878788,\n",
       " 0.8121843434343434,\n",
       " 0.8314393939393939,\n",
       " 0.8248106060606061,\n",
       " 0.8276515151515151,\n",
       " 0.8446969696969697,\n",
       " 0.819760101010101,\n",
       " 0.8194444444444444,\n",
       " 0.8238636363636364,\n",
       " 0.8421717171717171,\n",
       " 0.834280303030303,\n",
       " 0.8314393939393939,\n",
       " 0.8295454545454546,\n",
       " 0.8254419191919192,\n",
       " 0.8323863636363636,\n",
       " 0.8361742424242424,\n",
       " 0.8273358585858586,\n",
       " 0.8254419191919192,\n",
       " 0.8380681818181818,\n",
       " 0.834280303030303,\n",
       " 0.8339646464646465,\n",
       " 0.8254419191919192,\n",
       " 0.8156565656565656,\n",
       " 0.8308080808080808,\n",
       " 0.8390151515151515,\n",
       " 0.8235479797979798,\n",
       " 0.8232323232323232,\n",
       " 0.8131313131313131,\n",
       " 0.8232323232323232,\n",
       " 0.8345959595959596,\n",
       " 0.8279671717171717,\n",
       " 0.8446969696969697,\n",
       " 0.8210227272727273,\n",
       " 0.8166035353535354,\n",
       " 0.8390151515151515,\n",
       " 0.8115530303030303,\n",
       " 0.8301767676767676,\n",
       " 0.819760101010101,\n",
       " 0.8251262626262627,\n",
       " 0.8402777777777778,\n",
       " 0.8330176767676768,\n",
       " 0.836489898989899,\n",
       " 0.8311237373737373,\n",
       " 0.8298611111111112,\n",
       " 0.8421717171717171,\n",
       " 0.8355429292929293,\n",
       " 0.8254419191919192,\n",
       " 0.8374368686868687,\n",
       " 0.8289141414141414,\n",
       " 0.8039772727272727,\n",
       " 0.8349116161616161,\n",
       " 0.8207070707070707,\n",
       " 0.8238636363636364,\n",
       " 0.827020202020202,\n",
       " 0.8083964646464646,\n",
       " 0.8128156565656566,\n",
       " 0.8377525252525253,\n",
       " 0.8273358585858586,\n",
       " 0.8295454545454546,\n",
       " 0.8352272727272727,\n",
       " 0.8188131313131313,\n",
       " 0.8244949494949495,\n",
       " 0.8080808080808081,\n",
       " 0.8327020202020202,\n",
       " 0.8298611111111112,\n",
       " 0.8443813131313131,\n",
       " 0.8282828282828283,\n",
       " 0.8320707070707071,\n",
       " 0.8276515151515151,\n",
       " 0.8289141414141414,\n",
       " 0.8121843434343434,\n",
       " 0.8456439393939394,\n",
       " 0.84375,\n",
       " 0.8134469696969697,\n",
       " 0.8147095959595959,\n",
       " 0.8216540404040404,\n",
       " 0.8254419191919192,\n",
       " 0.8380681818181818,\n",
       " 0.8244949494949495,\n",
       " 0.8178661616161617,\n",
       " 0.8330176767676768,\n",
       " 0.8282828282828283,\n",
       " 0.8260732323232324,\n",
       " 0.8216540404040404,\n",
       " 0.8301767676767676,\n",
       " 0.8128156565656566,\n",
       " 0.821969696969697,\n",
       " 0.8257575757575758,\n",
       " 0.8304924242424242,\n",
       " 0.8301767676767676,\n",
       " 0.8393308080808081,\n",
       " 0.8279671717171717,\n",
       " 0.8175505050505051,\n",
       " 0.8301767676767676,\n",
       " 0.8235479797979798,\n",
       " 0.8257575757575758,\n",
       " 0.8263888888888888,\n",
       " 0.8222853535353535,\n",
       " 0.8323863636363636,\n",
       " 0.8238636363636364,\n",
       " 0.8203914141414141,\n",
       " 0.8355429292929293,\n",
       " 0.853219696969697,\n",
       " 0.829229797979798,\n",
       " 0.8156565656565656,\n",
       " 0.8330176767676768,\n",
       " 0.8143939393939394,\n",
       " 0.8320707070707071,\n",
       " 0.819760101010101,\n",
       " 0.8235479797979798,\n",
       " 0.8216540404040404,\n",
       " 0.8301767676767676,\n",
       " 0.8352272727272727,\n",
       " 0.8169191919191919,\n",
       " 0.8207070707070707,\n",
       " 0.8345959595959596,\n",
       " 0.8203914141414141,\n",
       " 0.8014520202020202,\n",
       " 0.8308080808080808,\n",
       " 0.8134469696969697,\n",
       " 0.8254419191919192,\n",
       " 0.8241792929292929,\n",
       " 0.8244949494949495,\n",
       " 0.8327020202020202,\n",
       " 0.8358585858585859,\n",
       " 0.8415404040404041,\n",
       " 0.8118686868686869,\n",
       " 0.8431186868686869,\n",
       " 0.8257575757575758,\n",
       " 0.8251262626262627,\n",
       " 0.8330176767676768,\n",
       " 0.8459595959595959,\n",
       " 0.8090277777777778,\n",
       " 0.8263888888888888,\n",
       " 0.8166035353535354,\n",
       " 0.8333333333333334,\n",
       " 0.8418560606060606,\n",
       " 0.8153409090909091,\n",
       " 0.829229797979798,\n",
       " 0.8210227272727273,\n",
       " 0.8434343434343434,\n",
       " 0.8320707070707071,\n",
       " 0.8172348484848485,\n",
       " 0.8421717171717171,\n",
       " 0.8295454545454546,\n",
       " 0.8311237373737373,\n",
       " 0.8273358585858586,\n",
       " 0.8428030303030303,\n",
       " 0.8102904040404041,\n",
       " 0.8235479797979798,\n",
       " 0.8339646464646465,\n",
       " 0.8304924242424242,\n",
       " 0.8153409090909091,\n",
       " 0.8415404040404041,\n",
       " 0.8229166666666666,\n",
       " 0.8229166666666666,\n",
       " 0.8276515151515151,\n",
       " 0.8263888888888888,\n",
       " 0.8345959595959596,\n",
       " 0.8169191919191919,\n",
       " 0.8267045454545454,\n",
       " 0.8333333333333334,\n",
       " 0.8175505050505051,\n",
       " 0.8128156565656566,\n",
       " 0.8238636363636364,\n",
       " 0.8184974747474747,\n",
       " 0.83364898989899,\n",
       " 0.8112373737373737,\n",
       " 0.8320707070707071,\n",
       " 0.8279671717171717,\n",
       " 0.8446969696969697,\n",
       " 0.8106060606060606,\n",
       " 0.8393308080808081,\n",
       " 0.8402777777777778,\n",
       " 0.8355429292929293,\n",
       " 0.8150252525252525,\n",
       " 0.8273358585858586,\n",
       " 0.8172348484848485,\n",
       " 0.8323863636363636,\n",
       " 0.8112373737373737,\n",
       " 0.8159722222222222,\n",
       " 0.83364898989899,\n",
       " 0.8263888888888888,\n",
       " 0.8248106060606061,\n",
       " 0.8188131313131313,\n",
       " 0.821969696969697,\n",
       " 0.821969696969697,\n",
       " 0.8345959595959596,\n",
       " 0.8162878787878788,\n",
       " 0.8285984848484849,\n",
       " 0.8301767676767676,\n",
       " 0.8191287878787878,\n",
       " 0.8267045454545454,\n",
       " 0.8361742424242424,\n",
       " 0.827020202020202,\n",
       " 0.8128156565656566,\n",
       " 0.8304924242424242,\n",
       " 0.82260101010101,\n",
       " 0.819760101010101,\n",
       " 0.8251262626262627,\n",
       " 0.8055555555555556,\n",
       " 0.8323863636363636,\n",
       " 0.8147095959595959,\n",
       " 0.8428030303030303,\n",
       " 0.8352272727272727,\n",
       " 0.8402777777777778,\n",
       " 0.829229797979798,\n",
       " 0.8238636363636364,\n",
       " 0.8333333333333334,\n",
       " 0.8207070707070707,\n",
       " 0.8257575757575758,\n",
       " 0.8143939393939394,\n",
       " 0.8352272727272727,\n",
       " 0.8355429292929293,\n",
       " 0.8345959595959596,\n",
       " 0.8213383838383839,\n",
       " 0.8440656565656566,\n",
       " 0.8257575757575758,\n",
       " 0.8333333333333334,\n",
       " 0.8194444444444444,\n",
       " 0.8150252525252525,\n",
       " 0.83364898989899,\n",
       " 0.8311237373737373,\n",
       " 0.8475378787878788,\n",
       " 0.8282828282828283,\n",
       " 0.8323863636363636,\n",
       " 0.8304924242424242,\n",
       " 0.8251262626262627,\n",
       " 0.8371212121212122,\n",
       " 0.8304924242424242,\n",
       " 0.8241792929292929,\n",
       " 0.8295454545454546,\n",
       " 0.8276515151515151,\n",
       " 0.8386994949494949,\n",
       " 0.8279671717171717,\n",
       " 0.8172348484848485,\n",
       " 0.8039772727272727,\n",
       " 0.8276515151515151,\n",
       " 0.8260732323232324,\n",
       " 0.8267045454545454,\n",
       " 0.827020202020202,\n",
       " 0.8109217171717171,\n",
       " 0.8267045454545454,\n",
       " 0.8443813131313131,\n",
       " 0.8251262626262627,\n",
       " 0.8159722222222222,\n",
       " 0.8276515151515151,\n",
       " 0.8276515151515151,\n",
       " 0.8301767676767676,\n",
       " 0.8304924242424242,\n",
       " 0.8166035353535354,\n",
       " 0.8188131313131313,\n",
       " 0.8349116161616161,\n",
       " 0.8150252525252525,\n",
       " 0.819760101010101,\n",
       " 0.8162878787878788,\n",
       " 0.8194444444444444,\n",
       " 0.8497474747474747,\n",
       " 0.8156565656565656,\n",
       " 0.8317550505050505,\n",
       " 0.8191287878787878,\n",
       " 0.8279671717171717,\n",
       " 0.8181818181818182,\n",
       " 0.8191287878787878,\n",
       " 0.8317550505050505,\n",
       " 0.8323863636363636,\n",
       " 0.8229166666666666,\n",
       " 0.8298611111111112,\n",
       " 0.8327020202020202,\n",
       " 0.8298611111111112,\n",
       " 0.8181818181818182,\n",
       " 0.8345959595959596,\n",
       " 0.8289141414141414,\n",
       " 0.836489898989899,\n",
       " 0.8014520202020202,\n",
       " 0.8446969696969697,\n",
       " 0.8317550505050505,\n",
       " 0.8450126262626263,\n",
       " 0.8298611111111112,\n",
       " 0.8330176767676768,\n",
       " 0.8172348484848485,\n",
       " 0.8181818181818182,\n",
       " 0.8140782828282829,\n",
       " 0.8156565656565656,\n",
       " 0.8175505050505051,\n",
       " 0.8320707070707071,\n",
       " 0.8235479797979798,\n",
       " 0.8279671717171717,\n",
       " 0.8014520202020202]"
      ]
     },
     "execution_count": 59,
     "metadata": {},
     "output_type": "execute_result"
    }
   ],
   "source": [
    "#accuracy when we have some of the features\n",
    "Acc2=BootstrapPred2(df,300,logRegL1)\n",
    "Acc2"
   ]
  },
  {
   "cell_type": "code",
   "execution_count": 60,
   "metadata": {},
   "outputs": [
    {
     "data": {
      "image/png": "[encoded data removed]",
      "text/plain": [
       "<Figure size 432x288 with 1 Axes>"
      ]
     },
     "metadata": {
      "needs_background": "light"
     },
     "output_type": "display_data"
    },
    {
     "name": "stdout",
     "output_type": "stream",
     "text": [
      "95.0 confidence interval 80.9% and 84.5%\n"
     ]
    }
   ],
   "source": [
    "# plot Accs when we have some of the features\n",
    "pyplot.xlabel('Accuracy %',fontsize=15)\n",
    "pyplot.ylabel('Frequency',fontsize=15)\n",
    "pyplot.hist(Acc2)\n",
    "pyplot.savefig(r'C:\\Users\\Farnoush\\Desktop\\CS Project\\ConfidenceInterval3.png')\n",
    "pyplot.show()\n",
    "\n",
    "# confidence intervals\n",
    "alpha = 0.95\n",
    "p = ((1.0-alpha)/2.0) * 100\n",
    "lower = max(0.0, np.percentile(Acc2, p))\n",
    "p = (alpha+((1.0-alpha)/2.0)) * 100\n",
    "upper = min(1.0, np.percentile(Acc2, p))\n",
    "print('%.1f confidence interval %.1f%% and %.1f%%' % (alpha*100, lower*100, upper*100))"
   ]
  },
  {
   "cell_type": "code",
   "execution_count": 51,
   "metadata": {},
   "outputs": [
    {
     "data": {
      "text/plain": [
       "3168"
      ]
     },
     "execution_count": 51,
     "metadata": {},
     "output_type": "execute_result"
    }
   ],
   "source": [
    "#dataframe with less features \n",
    "\n",
    "newX2 = df.drop(['Q25','IQR','meanfun', 'label','sp.ent','sfm','sd','centroid','median','meanfreq'], axis = 'columns')\n",
    "y = df.label.values\n",
    "le = LabelEncoder()\n",
    "le.fit(y)\n",
    "newy2 = le.transform(y)\n",
    "Xtrain2, Xtest2, ytrain2, ytest2 = train_test_split(newX2, newy, test_size=0.2, random_state=0)\n",
    "df.head()\n",
    "len(df)\n",
    "len (newX2)\n",
    "len(newy2)"
   ]
  },
  {
   "cell_type": "code",
   "execution_count": 61,
   "metadata": {},
   "outputs": [
    {
     "name": "stdout",
     "output_type": "stream",
     "text": [
      "Accuracy: 0.702 Recall: 0.703 Precision: 0.722\n"
     ]
    }
   ],
   "source": [
    "#Accuracy for LogRegL1 for when we have less features\n",
    "res12 = logRegL1.fit(Xtrain2, ytrain2)\n",
    "ytest_hat2 = res12.predict(Xtest2)\n",
    "compute_performance(ytest_hat2, ytest2, res12.classes_)"
   ]
  },
  {
   "cell_type": "code",
   "execution_count": 53,
   "metadata": {},
   "outputs": [],
   "source": [
    "#Bootstrap for accuracies for when we have less features\n",
    "\n",
    "def BootstrapPred3(data,numboot,regr):\n",
    "    Y_Pred=[]   \n",
    "    #y_pred=np.zeros((numboot,3168))\n",
    "    Acc=[]\n",
    "    #n_size=int(n*0.5)\n",
    "    \n",
    "    n=len(data)\n",
    "    #theta = np.zeros((numboot,2))    \n",
    "    for i in range(numboot):\n",
    "    \n",
    "        \n",
    "        \n",
    "        d = data.sample(n, replace=True)\n",
    "        y = d.label.values\n",
    "        le = LabelEncoder()\n",
    "        le.fit(y)\n",
    "        newy = le.transform(y)\n",
    "        \n",
    "        Xboot = d.drop(['Q25','IQR','meanfun', 'label','sp.ent','sfm','sd','centroid','median','meanfreq'], axis = 'columns')\n",
    "        \n",
    "        \n",
    "        #Xtrain, Xtest, ytrain, ytest = train_test_split(Xboot,newy,test_size=0.5, random_state=0)\n",
    "        \n",
    "        \n",
    "        X_fit = np.c_[Xboot]\n",
    "        regr.fit(X_fit,newy)\n",
    "        X=np.array(Xboot)\n",
    "        \n",
    "        y_pred=regr.predict(X)\n",
    "        Y_Pred.append(y_pred)\n",
    "        \n",
    "        \n",
    "        classes=regr.fit(X_fit,newy).classes_\n",
    "        tp = sum(np.logical_and(y_pred == classes[1], newy == classes[1]))\n",
    "        tn = sum(np.logical_and(y_pred == classes[0], newy == classes[0]))\n",
    "        fp = sum(np.logical_and(y_pred == classes[1], newy == classes[0]))\n",
    "        fn = sum(np.logical_and(y_pred == classes[0], newy == classes[1]))\n",
    "\n",
    "        #print(f\"tp: {tp} tn: {tn} fp: {fp} fn: {fn}\")\n",
    "        acc = (tp + tn) / (tp + tn + fp + fn)\n",
    "        precision = tp / (tp + fp)\n",
    "        recall = tp / (tp + fn)    \n",
    "        sensitivity = recall\n",
    "        specificity = tn / (fp + tn)\n",
    "        Acc.append(acc)\n",
    "\n",
    "\n",
    "    return Acc\n"
   ]
  },
  {
   "cell_type": "code",
   "execution_count": 54,
   "metadata": {},
   "outputs": [
    {
     "name": "stdout",
     "output_type": "stream",
     "text": [
      "[0.7200126262626263, 0.7048611111111112, 0.7105429292929293, 0.7105429292929293, 0.7136994949494949, 0.7133838383838383, 0.7089646464646465, 0.7039141414141414, 0.726010101010101, 0.7073863636363636, 0.70864898989899, 0.7083333333333334, 0.7155934343434344, 0.6985479797979798, 0.7124368686868687, 0.7058080808080808, 0.7203282828282829, 0.7080176767676768, 0.7140151515151515, 0.7266414141414141, 0.7130681818181818, 0.7067550505050505, 0.7143308080808081, 0.71875, 0.7206439393939394, 0.7136994949494949, 0.7111742424242424, 0.7118055555555556, 0.7102272727272727, 0.702020202020202, 0.7023358585858586, 0.7095959595959596, 0.7250631313131313, 0.7064393939393939, 0.7178030303030303, 0.7083333333333334, 0.6950757575757576, 0.7017045454545454, 0.7171717171717171, 0.7209595959595959, 0.709280303030303, 0.7064393939393939, 0.702020202020202, 0.7058080808080808, 0.7231691919191919, 0.7178030303030303, 0.704229797979798, 0.7130681818181818, 0.7073863636363636, 0.7174873737373737, 0.7111742424242424, 0.7118055555555556, 0.7058080808080808, 0.6931818181818182, 0.709280303030303, 0.7171717171717171, 0.7102272727272727, 0.6925505050505051, 0.7238005050505051, 0.704229797979798, 0.6953914141414141, 0.7143308080808081, 0.7285353535353535, 0.7058080808080808, 0.7228535353535354, 0.7133838383838383, 0.7275883838383839, 0.7105429292929293, 0.7070707070707071, 0.6960227272727273, 0.7225378787878788, 0.7174873737373737, 0.7178030303030303, 0.6998106060606061, 0.7070707070707071, 0.7051767676767676, 0.7146464646464646, 0.7118055555555556, 0.7219065656565656, 0.709280303030303, 0.7171717171717171, 0.7171717171717171, 0.694760101010101, 0.7165404040404041, 0.70864898989899, 0.7196969696969697, 0.7133838383838383, 0.6998106060606061, 0.7089646464646465, 0.7212752525252525, 0.7017045454545454, 0.7010732323232324, 0.694760101010101, 0.702020202020202, 0.7162247474747475, 0.6878156565656566, 0.7061237373737373, 0.7152777777777778, 0.6931818181818182, 0.7029671717171717, 0.7146464646464646, 0.7105429292929293, 0.7149621212121212, 0.7013888888888888, 0.7178030303030303, 0.7219065656565656, 0.7275883838383839, 0.728219696969697, 0.709280303030303, 0.7032828282828283, 0.7178030303030303, 0.7193813131313131, 0.7035984848484849, 0.7171717171717171, 0.7130681818181818, 0.7124368686868687, 0.7130681818181818, 0.7121212121212122, 0.7111742424242424, 0.7032828282828283, 0.7136994949494949, 0.7029671717171717, 0.7279040404040404, 0.7244318181818182, 0.7301136363636364, 0.7029671717171717, 0.7080176767676768, 0.7193813131313131, 0.6944444444444444, 0.7064393939393939, 0.7121212121212122, 0.696969696969697, 0.7067550505050505, 0.7124368686868687, 0.71875, 0.7386363636363636, 0.6884469696969697, 0.7111742424242424, 0.7165404040404041, 0.7124368686868687, 0.7215909090909091, 0.7077020202020202, 0.7108585858585859, 0.7118055555555556, 0.7181186868686869, 0.7067550505050505, 0.7310606060606061, 0.7256944444444444, 0.7099116161616161, 0.7256944444444444, 0.6991792929292929, 0.7323232323232324, 0.7159090909090909, 0.7149621212121212, 0.6972853535353535, 0.7203282828282829, 0.7054924242424242, 0.7048611111111112, 0.7058080808080808, 0.7064393939393939, 0.7054924242424242, 0.7165404040404041, 0.7032828282828283, 0.7061237373737373, 0.7155934343434344, 0.7152777777777778, 0.7051767676767676, 0.7111742424242424, 0.7083333333333334, 0.7111742424242424, 0.7209595959595959, 0.7155934343434344, 0.7348484848484849, 0.7048611111111112, 0.694760101010101, 0.709280303030303, 0.7206439393939394, 0.7108585858585859, 0.7171717171717171, 0.7045454545454546, 0.7209595959595959, 0.7035984848484849, 0.7133838383838383, 0.7124368686868687, 0.711489898989899, 0.7127525252525253, 0.6991792929292929, 0.70864898989899, 0.7165404040404041, 0.7171717171717171, 0.7099116161616161, 0.7004419191919192, 0.7146464646464646, 0.7083333333333334, 0.696969696969697, 0.7335858585858586, 0.7080176767676768, 0.7294823232323232, 0.7064393939393939, 0.7029671717171717, 0.7017045454545454, 0.7080176767676768, 0.709280303030303, 0.7121212121212122, 0.7136994949494949, 0.7241161616161617, 0.7070707070707071, 0.6890782828282829, 0.7118055555555556, 0.7061237373737373, 0.704229797979798, 0.7124368686868687, 0.7013888888888888, 0.7190656565656566, 0.7102272727272727, 0.7023358585858586, 0.702020202020202, 0.704229797979798, 0.7231691919191919, 0.7244318181818182, 0.7143308080808081, 0.7171717171717171, 0.71875, 0.7200126262626263, 0.7048611111111112, 0.7026515151515151, 0.6998106060606061, 0.70864898989899, 0.7219065656565656, 0.7029671717171717, 0.7193813131313131, 0.7168560606060606, 0.7058080808080808, 0.7080176767676768, 0.7326388888888888, 0.7200126262626263, 0.709280303030303, 0.7077020202020202, 0.7143308080808081, 0.704229797979798, 0.7152777777777778, 0.7077020202020202, 0.7310606060606061, 0.71875, 0.702020202020202, 0.7168560606060606, 0.7121212121212122, 0.7285353535353535, 0.7165404040404041, 0.7178030303030303, 0.7089646464646465, 0.7196969696969697, 0.7073863636363636, 0.7083333333333334, 0.7234848484848485, 0.7017045454545454, 0.7083333333333334, 0.7209595959595959, 0.7272727272727273, 0.6988636363636364, 0.7174873737373737, 0.726010101010101, 0.6991792929292929, 0.7045454545454546, 0.7127525252525253, 0.7070707070707071, 0.7001262626262627, 0.7133838383838383, 0.6953914141414141, 0.7051767676767676, 0.7149621212121212, 0.7225378787878788, 0.7121212121212122, 0.7174873737373737, 0.7342171717171717, 0.7105429292929293, 0.7181186868686869, 0.7064393939393939, 0.7149621212121212, 0.7064393939393939, 0.6988636363636364, 0.70864898989899, 0.7026515151515151, 0.7058080808080808, 0.6887626262626263, 0.7215909090909091, 0.7121212121212122, 0.7200126262626263, 0.7159090909090909, 0.7231691919191919, 0.6783459595959596, 0.7231691919191919, 0.7285353535353535, 0.7162247474747475, 0.7026515151515151, 0.7039141414141414, 0.7143308080808081, 0.7231691919191919, 0.709280303030303, 0.7077020202020202]\n"
     ]
    }
   ],
   "source": [
    "#Accuracy when we have less features\n",
    "Acc3=BootstrapPred3(df,300,logRegL1)\n",
    "print(Acc3)"
   ]
  },
  {
   "cell_type": "code",
   "execution_count": 55,
   "metadata": {},
   "outputs": [
    {
     "data": {
      "image/png": "[encoded data removed]",
      "text/plain": [
       "<Figure size 432x288 with 1 Axes>"
      ]
     },
     "metadata": {
      "needs_background": "light"
     },
     "output_type": "display_data"
    },
    {
     "name": "stdout",
     "output_type": "stream",
     "text": [
      "95.0 confidence interval 69.4% and 73.1%\n"
     ]
    }
   ],
   "source": [
    "# plot Accs when we have less features\n",
    "pyplot.xlabel('Accuracy %',fontsize=15)\n",
    "pyplot.ylabel('Frequency',fontsize=15)\n",
    "pyplot.hist(Acc3)\n",
    "pyplot.savefig(r'C:\\Users\\Farnoush\\Desktop\\CS Project\\ConfidenceInterval4.png')\n",
    "pyplot.show()\n",
    "# confidence intervals\n",
    "alpha = 0.95\n",
    "p = ((1.0-alpha)/2.0) * 100\n",
    "lower = max(0.0, np.percentile(Acc3, p))\n",
    "p = (alpha+((1.0-alpha)/2.0)) * 100\n",
    "upper = min(1.0, np.percentile(Acc3, p))\n",
    "print('%.1f confidence interval %.1f%% and %.1f%%' % (alpha*100, lower*100, upper*100))"
   ]
  },
  {
   "cell_type": "code",
   "execution_count": 56,
   "metadata": {},
   "outputs": [
    {
     "name": "stdout",
     "output_type": "stream",
     "text": [
      "Accuracy: 0.702 Recall: 0.703 Precision: 0.722\n"
     ]
    },
    {
     "data": {
      "image/png": "[encoded data removed]",
      "text/plain": [
       "<Figure size 432x288 with 1 Axes>"
      ]
     },
     "metadata": {
      "needs_background": "light"
     },
     "output_type": "display_data"
    }
   ],
   "source": [
    "res12 = logRegL1.fit(Xtrain2, ytrain2)\n",
    "ytest_hat2 = res12.predict(Xtest2)\n",
    "compute_performance(ytest_hat2, ytest2, res12.classes_)\n",
    "\n",
    "def aucPloter(model, ytest, Xtest):\n",
    "    #ytest_probability = logRegL1['reg'].predict_proba(Xtest)\n",
    "    ytest_probability = model.predict_proba(Xtest)\n",
    "    fpr, tpr, _ = roc_curve(ytest, ytest_probability[:,1], pos_label=1)\n",
    "    ax=sns.lineplot(x=fpr, y=tpr)\n",
    "    ax.set(xlabel=\"FPR\",ylabel=\"TPR\")\n",
    "    pyplot.savefig(r'C:\\Users\\Farnoush\\Desktop\\CS Project\\Auc3.png')\n",
    "    auc(fpr,tpr)\n",
    "aucPloter(res12, ytest2, Xtest2)\n",
    "#testInputC"
   ]
  },
  {
   "cell_type": "code",
   "execution_count": 57,
   "metadata": {},
   "outputs": [
    {
     "data": {
      "image/png": "[encoded data removed]",
      "text/plain": [
       "<Figure size 432x288 with 1 Axes>"
      ]
     },
     "metadata": {
      "needs_background": "light"
     },
     "output_type": "display_data"
    }
   ],
   "source": [
    "def rocPloter(model, ytest, Xtest):\n",
    "    ytest_prob = model.predict_proba(Xtest)\n",
    "    precision, recall, _ = precision_recall_curve(ytest, ytest_prob[:,1], pos_label=1)\n",
    "    ax=sns.lineplot(x=recall, y=precision)\n",
    "    ax.set(xlabel=\"Recall\",ylabel=\"Precision\")\n",
    "    pyplot.savefig(r'C:\\Users\\Farnoush\\Desktop\\CS Project\\Roc3.png')\n",
    "rocPloter(res12, ytest2, Xtest2)"
   ]
  },
  {
   "cell_type": "code",
   "execution_count": 63,
   "metadata": {},
   "outputs": [],
   "source": [
    "logRegL1P2 = Pipeline([\n",
    "    ('standardize', StandardScaler()),\n",
    "    ('poly', PolynomialFeatures(degree=2,include_bias = False)),\n",
    "    ('reg', LogisticRegression(penalty='l1', solver='liblinear'))\n",
    "])"
   ]
  },
  {
   "cell_type": "code",
   "execution_count": 64,
   "metadata": {},
   "outputs": [
    {
     "name": "stdout",
     "output_type": "stream",
     "text": [
      "Accuracy: 0.978 Recall: 0.973 Precision: 0.985\n"
     ]
    },
    {
     "ename": "TypeError",
     "evalue": "aucPloter() missing 1 required positional argument: 'Xtest'",
     "output_type": "error",
     "traceback": [
      "\u001b[1;31m---------------------------------------------------------------------------\u001b[0m",
      "\u001b[1;31mTypeError\u001b[0m                                 Traceback (most recent call last)",
      "\u001b[1;32m<ipython-input-64-b1709e48f10e>\u001b[0m in \u001b[0;36m<module>\u001b[1;34m\u001b[0m\n\u001b[0;32m      3\u001b[0m \u001b[0mytest_hat\u001b[0m \u001b[1;33m=\u001b[0m \u001b[0mres\u001b[0m\u001b[1;33m.\u001b[0m\u001b[0mpredict\u001b[0m\u001b[1;33m(\u001b[0m\u001b[0mXtest\u001b[0m\u001b[1;33m)\u001b[0m\u001b[1;33m\u001b[0m\u001b[1;33m\u001b[0m\u001b[0m\n\u001b[0;32m      4\u001b[0m \u001b[0mcompute_performance\u001b[0m\u001b[1;33m(\u001b[0m\u001b[0mytest_hat\u001b[0m\u001b[1;33m,\u001b[0m \u001b[0mytest\u001b[0m\u001b[1;33m,\u001b[0m \u001b[0mres\u001b[0m\u001b[1;33m.\u001b[0m\u001b[0mclasses_\u001b[0m\u001b[1;33m)\u001b[0m\u001b[1;33m\u001b[0m\u001b[1;33m\u001b[0m\u001b[0m\n\u001b[1;32m----> 5\u001b[1;33m \u001b[0maucPloter\u001b[0m\u001b[1;33m(\u001b[0m\u001b[0mres\u001b[0m\u001b[1;33m,\u001b[0m \u001b[0mytest\u001b[0m\u001b[1;33m)\u001b[0m\u001b[1;33m\u001b[0m\u001b[1;33m\u001b[0m\u001b[0m\n\u001b[0m\u001b[0;32m      6\u001b[0m \u001b[0mplt\u001b[0m\u001b[1;33m.\u001b[0m\u001b[0mfigure\u001b[0m\u001b[1;33m(\u001b[0m\u001b[1;33m)\u001b[0m\u001b[1;33m\u001b[0m\u001b[1;33m\u001b[0m\u001b[0m\n\u001b[0;32m      7\u001b[0m \u001b[0mrocPloter\u001b[0m\u001b[1;33m(\u001b[0m\u001b[0mres\u001b[0m\u001b[1;33m,\u001b[0m \u001b[0mytest\u001b[0m\u001b[1;33m,\u001b[0m \u001b[0mXtest\u001b[0m\u001b[1;33m)\u001b[0m\u001b[1;33m\u001b[0m\u001b[1;33m\u001b[0m\u001b[0m\n",
      "\u001b[1;31mTypeError\u001b[0m: aucPloter() missing 1 required positional argument: 'Xtest'"
     ]
    }
   ],
   "source": [
    "res = logRegL1P2.fit(Xtrain, ytrain)\n",
    "\n",
    "ytest_hat = res.predict(Xtest)\n",
    "compute_performance(ytest_hat, ytest, res.classes_)\n",
    "aucPloter(res, ytest)\n",
    "plt.figure()\n",
    "rocPloter(res, ytest, Xtest)\n"
   ]
  },
  {
   "cell_type": "code",
   "execution_count": 153,
   "metadata": {},
   "outputs": [
    {
     "ename": "AttributeError",
     "evalue": "'Pipeline' object has no attribute 'cov_params'",
     "output_type": "error",
     "traceback": [
      "\u001b[1;31m---------------------------------------------------------------------------\u001b[0m",
      "\u001b[1;31mAttributeError\u001b[0m                            Traceback (most recent call last)",
      "\u001b[1;32m<ipython-input-153-a7574125cab0>\u001b[0m in \u001b[0;36m<module>\u001b[1;34m\u001b[0m\n\u001b[1;32m----> 1\u001b[1;33m \u001b[0mcov\u001b[0m \u001b[1;33m=\u001b[0m \u001b[0mres\u001b[0m\u001b[1;33m.\u001b[0m\u001b[0mcov_params\u001b[0m\u001b[1;33m(\u001b[0m\u001b[1;33m)\u001b[0m\u001b[1;33m\u001b[0m\u001b[1;33m\u001b[0m\u001b[0m\n\u001b[0m\u001b[0;32m      2\u001b[0m \u001b[0mgradient\u001b[0m \u001b[1;33m=\u001b[0m \u001b[1;33m(\u001b[0m\u001b[0mytest_hat\u001b[0m\u001b[1;33m*\u001b[0m \u001b[1;33m(\u001b[0m\u001b[1;36m1\u001b[0m \u001b[1;33m-\u001b[0m \u001b[0mytest_hat\u001b[0m\u001b[1;33m)\u001b[0m \u001b[1;33m*\u001b[0m \u001b[0mXtest\u001b[0m\u001b[1;33m.\u001b[0m\u001b[0mT\u001b[0m\u001b[1;33m)\u001b[0m\u001b[1;33m.\u001b[0m\u001b[0mT\u001b[0m \u001b[1;31m# matrix of gradients for each observation\u001b[0m\u001b[1;33m\u001b[0m\u001b[1;33m\u001b[0m\u001b[0m\n\u001b[0;32m      3\u001b[0m \u001b[0mstd_errors\u001b[0m \u001b[1;33m=\u001b[0m \u001b[0mnp\u001b[0m\u001b[1;33m.\u001b[0m\u001b[0marray\u001b[0m\u001b[1;33m(\u001b[0m\u001b[1;33m[\u001b[0m\u001b[0mnp\u001b[0m\u001b[1;33m.\u001b[0m\u001b[0msqrt\u001b[0m\u001b[1;33m(\u001b[0m\u001b[0mnp\u001b[0m\u001b[1;33m.\u001b[0m\u001b[0mdot\u001b[0m\u001b[1;33m(\u001b[0m\u001b[0mnp\u001b[0m\u001b[1;33m.\u001b[0m\u001b[0mdot\u001b[0m\u001b[1;33m(\u001b[0m\u001b[0mg\u001b[0m\u001b[1;33m,\u001b[0m \u001b[0mcov\u001b[0m\u001b[1;33m)\u001b[0m\u001b[1;33m,\u001b[0m \u001b[0mg\u001b[0m\u001b[1;33m)\u001b[0m\u001b[1;33m)\u001b[0m \u001b[1;32mfor\u001b[0m \u001b[0mg\u001b[0m \u001b[1;32min\u001b[0m \u001b[0mgradient\u001b[0m\u001b[1;33m]\u001b[0m\u001b[1;33m)\u001b[0m\u001b[1;33m\u001b[0m\u001b[1;33m\u001b[0m\u001b[0m\n\u001b[0;32m      4\u001b[0m \u001b[0mc\u001b[0m \u001b[1;33m=\u001b[0m \u001b[1;36m1.96\u001b[0m \u001b[1;31m# multiplier for confidence interval\u001b[0m\u001b[1;33m\u001b[0m\u001b[1;33m\u001b[0m\u001b[0m\n\u001b[0;32m      5\u001b[0m \u001b[0mupper\u001b[0m \u001b[1;33m=\u001b[0m \u001b[0mnp\u001b[0m\u001b[1;33m.\u001b[0m\u001b[0mmaximum\u001b[0m\u001b[1;33m(\u001b[0m\u001b[1;36m0\u001b[0m\u001b[1;33m,\u001b[0m \u001b[0mnp\u001b[0m\u001b[1;33m.\u001b[0m\u001b[0mminimum\u001b[0m\u001b[1;33m(\u001b[0m\u001b[1;36m1\u001b[0m\u001b[1;33m,\u001b[0m \u001b[0mytest_hat\u001b[0m \u001b[1;33m+\u001b[0m \u001b[0mstd_errors\u001b[0m \u001b[1;33m*\u001b[0m \u001b[0mc\u001b[0m\u001b[1;33m)\u001b[0m\u001b[1;33m)\u001b[0m\u001b[1;33m\u001b[0m\u001b[1;33m\u001b[0m\u001b[0m\n",
      "\u001b[1;31mAttributeError\u001b[0m: 'Pipeline' object has no attribute 'cov_params'"
     ]
    }
   ],
   "source": [
    "cov = res.cov_params()\n",
    "gradient = (ytest_hat* (1 - ytest_hat) * Xtest.T).T # matrix of gradients for each observation\n",
    "std_errors = np.array([np.sqrt(np.dot(np.dot(g, cov), g)) for g in gradient])\n",
    "c = 1.96 # multiplier for confidence interval\n",
    "upper = np.maximum(0, np.minimum(1, ytest_hat + std_errors * c))\n",
    "lower = np.maximum(0, np.minimum(1, ytest_hat - std_errors * c))\n",
    "\n",
    "print(upper,lower)"
   ]
  },
  {
   "cell_type": "code",
   "execution_count": 10,
   "metadata": {
    "scrolled": true
   },
   "outputs": [
    {
     "name": "stdout",
     "output_type": "stream",
     "text": [
      "Accuracy: 0.968 Recall: 0.988 Precision: 0.954\n"
     ]
    },
    {
     "ename": "NameError",
     "evalue": "name 'aucPloter' is not defined",
     "output_type": "error",
     "traceback": [
      "\u001b[1;31m---------------------------------------------------------------------------\u001b[0m",
      "\u001b[1;31mNameError\u001b[0m                                 Traceback (most recent call last)",
      "\u001b[1;32m<ipython-input-10-f8fc21ec6ad8>\u001b[0m in \u001b[0;36m<module>\u001b[1;34m\u001b[0m\n\u001b[0;32m      2\u001b[0m \u001b[0mytest_hat\u001b[0m \u001b[1;33m=\u001b[0m \u001b[0mres\u001b[0m\u001b[1;33m.\u001b[0m\u001b[0mpredict\u001b[0m\u001b[1;33m(\u001b[0m\u001b[0mXtest\u001b[0m\u001b[1;33m)\u001b[0m\u001b[1;33m\u001b[0m\u001b[1;33m\u001b[0m\u001b[0m\n\u001b[0;32m      3\u001b[0m \u001b[0mcompute_performance\u001b[0m\u001b[1;33m(\u001b[0m\u001b[0mytest_hat\u001b[0m\u001b[1;33m,\u001b[0m \u001b[0mytest\u001b[0m\u001b[1;33m,\u001b[0m \u001b[0mres\u001b[0m\u001b[1;33m.\u001b[0m\u001b[0mclasses_\u001b[0m\u001b[1;33m)\u001b[0m\u001b[1;33m\u001b[0m\u001b[1;33m\u001b[0m\u001b[0m\n\u001b[1;32m----> 4\u001b[1;33m \u001b[0maucPloter\u001b[0m\u001b[1;33m(\u001b[0m\u001b[0mres\u001b[0m\u001b[1;33m,\u001b[0m \u001b[0mytest\u001b[0m\u001b[1;33m)\u001b[0m\u001b[1;33m\u001b[0m\u001b[1;33m\u001b[0m\u001b[0m\n\u001b[0m\u001b[0;32m      5\u001b[0m \u001b[0mplt\u001b[0m\u001b[1;33m.\u001b[0m\u001b[0mfigure\u001b[0m\u001b[1;33m(\u001b[0m\u001b[1;33m)\u001b[0m\u001b[1;33m\u001b[0m\u001b[1;33m\u001b[0m\u001b[0m\n\u001b[0;32m      6\u001b[0m \u001b[0mrocPloter\u001b[0m\u001b[1;33m(\u001b[0m\u001b[0mres\u001b[0m\u001b[1;33m,\u001b[0m \u001b[0mytest\u001b[0m\u001b[1;33m,\u001b[0m \u001b[0mXtest\u001b[0m\u001b[1;33m)\u001b[0m\u001b[1;33m\u001b[0m\u001b[1;33m\u001b[0m\u001b[0m\n",
      "\u001b[1;31mNameError\u001b[0m: name 'aucPloter' is not defined"
     ]
    }
   ],
   "source": [
    "res = LogisticRegression(penalty='l1', solver='liblinear').fit(Xtrain, ytrain)\n",
    "ytest_hat = res.predict(Xtest)\n",
    "compute_performance(ytest_hat, ytest, res.classes_)\n",
    "aucPloter(res, ytest)\n",
    "plt.figure()\n",
    "rocPloter(res, ytest, Xtest)"
   ]
  },
  {
   "cell_type": "code",
   "execution_count": 65,
   "metadata": {
    "scrolled": true
   },
   "outputs": [
    {
     "name": "stdout",
     "output_type": "stream",
     "text": [
      "Accuracy: 0.968 Recall: 0.988 Precision: 0.954\n"
     ]
    },
    {
     "ename": "TypeError",
     "evalue": "aucPloter() missing 1 required positional argument: 'Xtest'",
     "output_type": "error",
     "traceback": [
      "\u001b[1;31m---------------------------------------------------------------------------\u001b[0m",
      "\u001b[1;31mTypeError\u001b[0m                                 Traceback (most recent call last)",
      "\u001b[1;32m<ipython-input-65-f8fc21ec6ad8>\u001b[0m in \u001b[0;36m<module>\u001b[1;34m\u001b[0m\n\u001b[0;32m      2\u001b[0m \u001b[0mytest_hat\u001b[0m \u001b[1;33m=\u001b[0m \u001b[0mres\u001b[0m\u001b[1;33m.\u001b[0m\u001b[0mpredict\u001b[0m\u001b[1;33m(\u001b[0m\u001b[0mXtest\u001b[0m\u001b[1;33m)\u001b[0m\u001b[1;33m\u001b[0m\u001b[1;33m\u001b[0m\u001b[0m\n\u001b[0;32m      3\u001b[0m \u001b[0mcompute_performance\u001b[0m\u001b[1;33m(\u001b[0m\u001b[0mytest_hat\u001b[0m\u001b[1;33m,\u001b[0m \u001b[0mytest\u001b[0m\u001b[1;33m,\u001b[0m \u001b[0mres\u001b[0m\u001b[1;33m.\u001b[0m\u001b[0mclasses_\u001b[0m\u001b[1;33m)\u001b[0m\u001b[1;33m\u001b[0m\u001b[1;33m\u001b[0m\u001b[0m\n\u001b[1;32m----> 4\u001b[1;33m \u001b[0maucPloter\u001b[0m\u001b[1;33m(\u001b[0m\u001b[0mres\u001b[0m\u001b[1;33m,\u001b[0m \u001b[0mytest\u001b[0m\u001b[1;33m)\u001b[0m\u001b[1;33m\u001b[0m\u001b[1;33m\u001b[0m\u001b[0m\n\u001b[0m\u001b[0;32m      5\u001b[0m \u001b[0mplt\u001b[0m\u001b[1;33m.\u001b[0m\u001b[0mfigure\u001b[0m\u001b[1;33m(\u001b[0m\u001b[1;33m)\u001b[0m\u001b[1;33m\u001b[0m\u001b[1;33m\u001b[0m\u001b[0m\n\u001b[0;32m      6\u001b[0m \u001b[0mrocPloter\u001b[0m\u001b[1;33m(\u001b[0m\u001b[0mres\u001b[0m\u001b[1;33m,\u001b[0m \u001b[0mytest\u001b[0m\u001b[1;33m,\u001b[0m \u001b[0mXtest\u001b[0m\u001b[1;33m)\u001b[0m\u001b[1;33m\u001b[0m\u001b[1;33m\u001b[0m\u001b[0m\n",
      "\u001b[1;31mTypeError\u001b[0m: aucPloter() missing 1 required positional argument: 'Xtest'"
     ]
    }
   ],
   "source": [
    "res = LogisticRegression(penalty='l1', solver='liblinear').fit(Xtrain, ytrain)\n",
    "ytest_hat = res.predict(Xtest)\n",
    "compute_performance(ytest_hat, ytest, res.classes_)\n",
    "aucPloter(res, ytest)\n",
    "plt.figure()\n",
    "rocPloter(res, ytest, Xtest)"
   ]
  },
  {
   "cell_type": "code",
   "execution_count": null,
   "metadata": {},
   "outputs": [],
   "source": [
    "cov = model.cov_params()\n",
    "gradient = (proba * (1 - proba) * X.T).T # matrix of gradients for each observation\n",
    "std_errors = np.array([np.sqrt(np.dot(np.dot(g, cov), g)) for g in gradient])\n",
    "c = 1.96 # multiplier for confidence interval\n",
    "upper = np.maximum(0, np.minimum(1, proba + std_errors * c))\n",
    "lower = np.maximum(0, np.minimum(1, proba - std_errors * c))\n",
    "\n",
    "plt.plot(x, proba)\n",
    "plt.plot(x, lower, color='g')\n",
    "plt.plot(x, upper, color='g')\n",
    "plt.show()"
   ]
  }
 ],
 "metadata": {
  "kernelspec": {
   "display_name": "Python 3",
   "language": "python",
   "name": "python3"
  },
  "language_info": {
   "codemirror_mode": {
    "name": "ipython",
    "version": 3
   },
   "file_extension": ".py",
   "mimetype": "text/x-python",
   "name": "python",
   "nbconvert_exporter": "python",
   "pygments_lexer": "ipython3",
   "version": "3.8.3"
  }
 },
 "nbformat": 4,
 "nbformat_minor": 4
}
